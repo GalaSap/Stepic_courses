{
  "cells": [
    {
      "cell_type": "markdown",
      "id": "069381d1",
      "metadata": {
        "id": "069381d1"
      },
      "source": [
        "# 1. Первым индексом в строковом значении является\n",
        "\n",
        "\n",
        "* 1\n",
        "\n",
        "* -1\n",
        "\n",
        "* 0\n",
        "\n",
        "* длина строки минус один\n",
        "\n",
        "# 2. Последним индексом в строковом значении является\n",
        "\n",
        "\n",
        "* 1\n",
        "\n",
        "* **длина строки минус один**\n",
        "\n",
        "* 99\n",
        "\n",
        "* 0\n",
        "\n",
        "# 3. Если попытаться использовать индекс, который находится за пределами диапазона строкового значения, то\n",
        "\n",
        "\n",
        "* **произойдет ошибка IndexError**\n",
        "\n",
        "* произойдет ошибка ValueError\n",
        "\n",
        "* ничего не произойдет – недопустимый индекс будет проигнорирован\n",
        "\n",
        "* строковое значение будет стерто, и программа продолжит работу\n",
        "\n",
        "# 4. Какой оператор определяет, содержится ли одно строковое значение в другом?\n",
        "\n",
        "\n",
        "* is_in\n",
        "\n",
        "* contains\n",
        "\n",
        "* **in**\n",
        "\n",
        "* ==\n",
        "\n",
        "# 5. Какой строковый метод возвращает индекс первого вхождения подстроки в строку?\n",
        "\n",
        "\n",
        "* first_index_of()\n",
        "\n",
        "* index_of()\n",
        "\n",
        "* **find()**\n",
        "\n",
        "* locate()\n",
        "\n",
        "# 6. Какой строковый метод возвращает копию строкового значения, в котором удалены все ведущие пробельные символы?\n",
        "\n",
        "\n",
        "* **lstrip()**\n",
        "\n",
        "* remove()\n",
        "\n",
        "* rstrip()\n",
        "\n",
        "* strip_leading()\n",
        "\n",
        "# 7. Какой строковый метод возвращает копию строкового значения, в котором удалены все ведущие и замыкающие пробельные символы?\n",
        "\n",
        "\n",
        "* remove_whitespace()\n",
        "\n",
        "* rstrip()\n",
        "\n",
        "* clean()\n",
        "\n",
        "* **strip()**\n",
        "\n",
        "# 8. Какой строковый метод возвращает истину, если строковое значение содержит только буквы и имеет по крайней мере один символ?\n",
        "\n",
        "\n",
        "* **isalpha()**\n",
        "\n",
        "* isletters()\n",
        "\n",
        "* alphabetic()\n",
        "\n",
        "* alpha()\n",
        "\n",
        "# 9. Какой строковый метод возвращает истину, если строковое значение содержит только цифры и имеет по крайней мере один символ?\n",
        "\n",
        "\n",
        "* digit()\n",
        "\n",
        "* numeric()\n",
        "\n",
        "* isnumber()\n",
        "\n",
        "* **isdigit()**\n",
        "\n",
        "# 10. Что покажет приведенный ниже фрагмент кода?\n",
        "```\n",
        "name = 'джо'\n",
        "print(name.lower())\n",
        "print(name.upper())\n",
        "print(name)\n",
        "```\n",
        "\n",
        "```\n",
        "ДЖО\n",
        "ДЖО\n",
        "ДЖО\n",
        "```\n",
        "\n",
        "* **джо**\n",
        "* **ДЖО**\n",
        "* **джо**\n",
        "\n",
        "```\n",
        "джо\n",
        "ДЖО\n",
        "ДЖО\n",
        "```\n",
        "```\n",
        "джо\n",
        "джо\n",
        "джо\n",
        "```\n",
        "\n",
        "# 11. Вставьте пропущенный фрагмент кода, так чтобы в результате выполнения программы была выведена длина строки s."
      ]
    },
    {
      "cell_type": "code",
      "execution_count": 1,
      "id": "b605c113",
      "metadata": {
        "colab": {
          "base_uri": "https://localhost:8080/"
        },
        "id": "b605c113",
        "outputId": "0d489f33-4b4d-4a34-de19-dd82853bc489"
      },
      "outputs": [
        {
          "output_type": "stream",
          "name": "stdout",
          "text": [
            "13\n"
          ]
        }
      ],
      "source": [
        "s = 'Python rocks!'\n",
        "print(len(s))"
      ]
    },
    {
      "cell_type": "markdown",
      "id": "f671862c",
      "metadata": {
        "id": "f671862c"
      },
      "source": [
        "# 12. Вставьте пропущенный фрагмент кода, так чтобы в результате выполнения программы был выведен четвертый символ строки s."
      ]
    },
    {
      "cell_type": "code",
      "execution_count": 2,
      "id": "ee9b242a",
      "metadata": {
        "colab": {
          "base_uri": "https://localhost:8080/"
        },
        "id": "ee9b242a",
        "outputId": "f6880dd3-64d4-49c2-9af1-62c62740b88f"
      },
      "outputs": [
        {
          "output_type": "stream",
          "name": "stdout",
          "text": [
            "h\n"
          ]
        }
      ],
      "source": [
        "s = 'Python rocks!'\n",
        "print(s[3])"
      ]
    },
    {
      "cell_type": "markdown",
      "id": "f5493082",
      "metadata": {
        "id": "f5493082"
      },
      "source": [
        "# 13. Вставьте пропущенный фрагмент кода, так чтобы в результате выполнения программы были выведены символы строки s со 2 по 5 включительно."
      ]
    },
    {
      "cell_type": "code",
      "execution_count": 3,
      "id": "7bd3f7d6",
      "metadata": {
        "colab": {
          "base_uri": "https://localhost:8080/"
        },
        "id": "7bd3f7d6",
        "outputId": "c023b86d-08dd-4cdc-810c-a67f671341d3"
      },
      "outputs": [
        {
          "output_type": "stream",
          "name": "stdout",
          "text": [
            "ytho\n"
          ]
        }
      ],
      "source": [
        "s = 'Python rocks!'\n",
        "print(s[1:5])"
      ]
    },
    {
      "cell_type": "markdown",
      "id": "6a09df58",
      "metadata": {
        "id": "6a09df58"
      },
      "source": [
        "# 14. Вставьте пропущенный фрагмент кода, так чтобы в результате выполнения программы была выведена строка s без ведущих и замыкающих пробельных символов."
      ]
    },
    {
      "cell_type": "code",
      "execution_count": null,
      "id": "dac3c3a4",
      "metadata": {
        "id": "dac3c3a4",
        "outputId": "11cc095b-e855-47a0-9b73-11877c70f67e"
      },
      "outputs": [
        {
          "name": "stdout",
          "output_type": "stream",
          "text": [
            "Python rocks!\n"
          ]
        }
      ],
      "source": [
        "s = '    Python rocks!     '\n",
        "print(s.strip())"
      ]
    },
    {
      "cell_type": "markdown",
      "id": "84d7bb24",
      "metadata": {
        "id": "84d7bb24"
      },
      "source": [
        "# 15. Вставьте пропущенный фрагмент кода, так чтобы в результате выполнения программы была выведена строка s заглавными буквами (в верхнем регистре).\n"
      ]
    },
    {
      "cell_type": "code",
      "execution_count": null,
      "id": "f9aacb96",
      "metadata": {
        "id": "f9aacb96",
        "outputId": "687b515d-c1de-462f-d762-3b6317db404c"
      },
      "outputs": [
        {
          "name": "stdout",
          "output_type": "stream",
          "text": [
            "PYTHON ROCKS!\n"
          ]
        }
      ],
      "source": [
        "s = 'Python rocks!'\n",
        "print(s.upper())"
      ]
    },
    {
      "cell_type": "markdown",
      "id": "6f2c5f6d",
      "metadata": {
        "id": "6f2c5f6d"
      },
      "source": [
        "# 16. Вставьте пропущенный фрагмент кода, так чтобы в результате выполнения программы была выведена строка s в которой символ «o» заменен на символ «@»."
      ]
    },
    {
      "cell_type": "code",
      "execution_count": null,
      "id": "648283ff",
      "metadata": {
        "id": "648283ff",
        "outputId": "534a84db-c53c-4558-8ea8-81deca2e9b53"
      },
      "outputs": [
        {
          "name": "stdout",
          "output_type": "stream",
          "text": [
            "Pyth@n r@cks!\n"
          ]
        }
      ],
      "source": [
        "s = 'Python rocks!'\n",
        "print(s.replace('o', '@'))"
      ]
    },
    {
      "cell_type": "markdown",
      "id": "72c41c83",
      "metadata": {
        "id": "72c41c83"
      },
      "source": [
        "# 17. Каждый третий\n",
        "На вход программе подается строка текста. Напишите программу, которая удаляет из нее все символы с индексами кратными 3, то есть символы с индексами 0, 3, 6, ....\n",
        "\n",
        "`Формат входных данных `\n",
        "\n",
        "На вход программе подается строка текста.\n",
        "\n",
        "`Формат выходных данных`\n",
        "\n",
        "Программа должна вывести строку текста в соответствии с условием задачи."
      ]
    },
    {
      "cell_type": "code",
      "execution_count": null,
      "id": "1f75667a",
      "metadata": {
        "id": "1f75667a",
        "outputId": "f452f9c8-6640-4b1d-9c53-237e069bf886"
      },
      "outputs": [
        {
          "name": "stdout",
          "output_type": "stream",
          "text": [
            "Python\n",
            "yton"
          ]
        }
      ],
      "source": [
        "n = input()\n",
        "for i in range(0, len(n)):\n",
        "    if i % 3 == 0:\n",
        "        continue\n",
        "    print(n[i], end='')"
      ]
    },
    {
      "cell_type": "markdown",
      "id": "66a0cfc4",
      "metadata": {
        "id": "66a0cfc4"
      },
      "source": [
        "# 18. Замени меня полностью\n",
        "На вход программе подается строка текста. Напишите программу, которая заменяет все вхождения цифры 1 на слово «one».\n",
        "\n",
        "`Формат входных данных `\n",
        "\n",
        "На вход программе подается строка текста.\n",
        "\n",
        "`Формат выходных данных`\n",
        "\n",
        "Программа должна вывести текст в соответствии с условием задачи.\n",
        "\n"
      ]
    },
    {
      "cell_type": "code",
      "execution_count": 4,
      "id": "2cfe3b1e",
      "metadata": {
        "colab": {
          "base_uri": "https://localhost:8080/"
        },
        "id": "2cfe3b1e",
        "outputId": "b274a051-ee92-4606-d6e7-8e881642abfc"
      },
      "outputs": [
        {
          "output_type": "stream",
          "name": "stdout",
          "text": [
            "123\n",
            "one23\n"
          ]
        }
      ],
      "source": [
        "s = input()\n",
        "print(s.replace('1', 'one'))"
      ]
    },
    {
      "cell_type": "markdown",
      "id": "3bae4a99",
      "metadata": {
        "id": "3bae4a99"
      },
      "source": [
        "# 19. Удали меня полностью\n",
        "На вход программе подается строка текста. Напишите программу, которая удаляет все вхождения символа «@».\n",
        "\n",
        "`Формат входных данных`\n",
        "\n",
        "На вход программе подается строка текста.\n",
        "\n",
        "`Формат выходных данных`\n",
        "\n",
        "Программа должна вывести текст в соответствии с условием задачи."
      ]
    },
    {
      "cell_type": "code",
      "execution_count": null,
      "id": "c520ebf8",
      "metadata": {
        "id": "c520ebf8",
        "outputId": "36dd71dd-9ebf-4657-d644-1375a3dadcaa"
      },
      "outputs": [
        {
          "name": "stdout",
          "output_type": "stream",
          "text": [
            "123@1@@34\n",
            "123134\n"
          ]
        }
      ],
      "source": [
        "n = input()\n",
        "print(n.replace('@', ''))"
      ]
    },
    {
      "cell_type": "markdown",
      "id": "16054c68",
      "metadata": {
        "id": "16054c68"
      },
      "source": [
        "# 20. Второе вхождение\n",
        "На вход программе подается строка текста. Напишите программу, которая выводит индекс второго вхождения буквы «f». Если буква «f» встречается только один раз, выведите число -1, а если не встречается ни разу, выведите число -2.\n",
        "\n",
        "`Формат входных данных `\n",
        "\n",
        "На вход программе подается строка текста.\n",
        "\n",
        "`Формат выходных данных`\n",
        "\n",
        "Программа должна вывести текст в соответствии с условием задачи."
      ]
    },
    {
      "cell_type": "code",
      "execution_count": 5,
      "id": "e00b4d28",
      "metadata": {
        "colab": {
          "base_uri": "https://localhost:8080/"
        },
        "id": "e00b4d28",
        "outputId": "01b2acd9-72fc-4644-ce4b-fb76ca2e1ff1"
      },
      "outputs": [
        {
          "output_type": "stream",
          "name": "stdout",
          "text": [
            "father\n",
            "-1\n"
          ]
        }
      ],
      "source": [
        "s = input()\n",
        "if s.count('f') == 1:\n",
        "    print('-1')\n",
        "elif s.count('f') == 0:\n",
        "    print('-2')\n",
        "else:\n",
        "    s = s.replace('f', 'a', 1)\n",
        "    print(s.find('f'))"
      ]
    },
    {
      "cell_type": "markdown",
      "id": "a32596a0",
      "metadata": {
        "id": "a32596a0"
      },
      "source": [
        "# 21. Переворот\n",
        "На вход программе подается строка текста в которой буква «h» встречается как минимум два раза. Напишите программу, которая возвращает исходную строку и переворачивает последовательность символов, заключенную между первым и последним вхождением буквы «h».\n",
        "\n",
        "`Формат входных данных `\n",
        "\n",
        "На вход программе подается строка текста.\n",
        "\n",
        "`Формат выходных данных`\n",
        "\n",
        "Программа должна вывести текст в соответствии с условием задачи."
      ]
    },
    {
      "cell_type": "code",
      "execution_count": 6,
      "id": "7c561937",
      "metadata": {
        "colab": {
          "base_uri": "https://localhost:8080/"
        },
        "id": "7c561937",
        "outputId": "7cfd4710-b438-4eae-c1d5-7175504268c9"
      },
      "outputs": [
        {
          "output_type": "stream",
          "name": "stdout",
          "text": [
            "abch12345h\n",
            "abch54321h\n"
          ]
        }
      ],
      "source": [
        "s = input()\n",
        "print(s[:s.find('h')] + s[s.rfind('h'):s.find('h'):-1] + s[s.rfind('h'):])"
      ]
    }
  ],
  "metadata": {
    "kernelspec": {
      "display_name": "Python 3 (ipykernel)",
      "language": "python",
      "name": "python3"
    },
    "language_info": {
      "codemirror_mode": {
        "name": "ipython",
        "version": 3
      },
      "file_extension": ".py",
      "mimetype": "text/x-python",
      "name": "python",
      "nbconvert_exporter": "python",
      "pygments_lexer": "ipython3",
      "version": "3.9.12"
    },
    "colab": {
      "provenance": []
    }
  },
  "nbformat": 4,
  "nbformat_minor": 5
}