{
  "cells": [
    {
      "cell_type": "markdown",
      "id": "9b333abd",
      "metadata": {
        "id": "9b333abd"
      },
      "source": [
        "# 1. Какой программный код написан с ошибкой?\n",
        "```python\n",
        "def do_something():\n",
        "    a = 1\n",
        "    print(a)\n",
        "\n",
        "a = 0\n",
        "do_something()\n",
        "print(a)\n",
        "```\n",
        "\n",
        "```python\n",
        "def do_something():\n",
        "    a = 1\n",
        "\n",
        "do_something()\n",
        "print(a)\n",
        "a = 1\n",
        "```\n",
        "\n",
        "```python\n",
        "def do_something():\n",
        "    print(a)\n",
        "\n",
        "do_something()\n",
        "```\n",
        "\n",
        "\n",
        "* 1\n",
        "\n",
        "* **2**\n",
        "\n",
        "* 3\n",
        "\n",
        "# 2. Какие из переменных в приведенном ниже коде являются локальными?\n",
        "```python\n",
        "def factorial(n):\n",
        "    res = 1\n",
        "    for i in range(2, n + 1):\n",
        "        res *= i\n",
        "    return res\n",
        "\n",
        "number = int(input())\n",
        "f = factorial(number)\n",
        "```\n",
        "\n",
        "\n",
        "* **res**\n",
        "\n",
        "* f\n",
        "\n",
        "* number\n",
        "\n",
        "* **n**\n",
        "\n",
        "* **i**\n",
        "\n",
        "\n",
        "# 3. Вставить в пропуски слова из списка.\n",
        "\n",
        "Примечание. Слова могут использоваться не все и могут повторяться.\n",
        "\n",
        "Python считает переменную `локальной` для данной `функции`, если в её коде есть хотя бы одна инструкция, модифицирующая \n",
        "`значение` переменной. В этом случае эта `переменная` считается `локальной` и не может быть использована до инициализации.\n",
        "\n",
        "\n",
        "# 4. Звездный треугольник 🌶️\n",
        "Напишите функцию draw_triangle(), которая выводит звездный равнобедренный треугольник с основанием и высотой равными 15 и 8 соответственно:\n",
        "```\n",
        "       *\n",
        "      ***\n",
        "     *****\n",
        "    *******\n",
        "   *********\n",
        "  ***********\n",
        " *************\n",
        "***************\n",
        "```\n",
        "Примечание 1 . Для вывода треугольника используйте цикл for. \n",
        "\n",
        "Примечание 2 . Справа от звездочек пробелов нет."
      ]
    },
    {
      "cell_type": "code",
      "execution_count": 1,
      "id": "15e5d547",
      "metadata": {
        "colab": {
          "base_uri": "https://localhost:8080/",
          "height": 0
        },
        "id": "15e5d547",
        "outputId": "cfb7f1ba-d10c-4b03-f84c-35341022f29a"
      },
      "outputs": [
        {
          "output_type": "stream",
          "name": "stdout",
          "text": [
            "       *\n",
            "      ***\n",
            "     *****\n",
            "    *******\n",
            "   *********\n",
            "  ***********\n",
            " *************\n",
            "***************\n"
          ]
        }
      ],
      "source": [
        "# объявление функции\n",
        "def draw_triangle():\n",
        "    for i in range(8):\n",
        "        print(' ' * (8 - 1 - i) + '*' * (1 + i * 2))\n",
        "\n",
        "# основная программа\n",
        "draw_triangle()  # вызов функции"
      ]
    },
    {
      "cell_type": "markdown",
      "id": "2a19fb86",
      "metadata": {
        "id": "2a19fb86"
      },
      "source": [
        "# 5. Калькулятор доставки\n",
        "Интернет магазин осуществляет экспресс доставку для своих товаров по цене 1000 рублей за первый товар и 120 рублей за каждый последующий товар. Напишите функцию get_shipping_cost(quantity), которая принимает в качестве аргумента натуральное число quantity – количество товаров в заказе и возвращает стоимость доставки.\n",
        "\n",
        "Примечание. Следующий программный код:\n",
        "```python\n",
        "print(get_shipping_cost(1))\n",
        "print(get_shipping_cost(3))\n",
        "```\n",
        "должен выводить:\n",
        "```\n",
        "1000\n",
        "1240\n",
        "```"
      ]
    },
    {
      "cell_type": "code",
      "execution_count": 2,
      "id": "981c5fe5",
      "metadata": {
        "colab": {
          "base_uri": "https://localhost:8080/",
          "height": 0
        },
        "id": "981c5fe5",
        "outputId": "6b7e108f-954f-4424-cecf-aece36b585b2"
      },
      "outputs": [
        {
          "output_type": "stream",
          "name": "stdout",
          "text": [
            "1\n",
            "1000\n"
          ]
        }
      ],
      "source": [
        "# объявление функции\n",
        "def get_shipping_cost(quantity):\n",
        "    return 1000 + (quantity - 1) * 120\n",
        "\n",
        "# считываем данные\n",
        "n = int(input())\n",
        "\n",
        "# вызываем функцию\n",
        "print(get_shipping_cost(n))"
      ]
    },
    {
      "cell_type": "markdown",
      "id": "87450ed1",
      "metadata": {
        "id": "87450ed1"
      },
      "source": [
        "# 6. Биномиальный коэффициент 🌶️\n",
        "Напишите функцию compute_binom(n, k), которая принимает в качестве аргументов два натуральных числа n и k и возвращает значение биномиального коэффициента, равного n! / k!(n - k!).\n",
        "\n",
        "Примечание 1. Факториалом натурального числа n, называется произведение всех натуральных чисел от 1 до n, то есть n!=1⋅2⋅3⋅…⋅n\n",
        "\n",
        "Примечание 2. Реализуйте вспомогательную функцию factorial(n), вычисляющую факториал числа или воспользуйтесь уже готовой функцией из модуля math."
      ]
    },
    {
      "cell_type": "code",
      "execution_count": 3,
      "id": "c8240c82",
      "metadata": {
        "colab": {
          "base_uri": "https://localhost:8080/",
          "height": 0
        },
        "id": "c8240c82",
        "outputId": "077c4917-f4fc-4dac-ec59-2a72a32be47c"
      },
      "outputs": [
        {
          "output_type": "stream",
          "name": "stdout",
          "text": [
            "1\n",
            "1\n",
            "1\n"
          ]
        }
      ],
      "source": [
        "from math import *\n",
        "def compute_binom(n, k):\n",
        "    return factorial(n) // (factorial(k) * factorial(n - k))\n",
        "\n",
        "# считываем данные\n",
        "n = int(input())\n",
        "k = int(input())\n",
        "\n",
        "# вызываем функцию\n",
        "print(compute_binom(n, k))"
      ]
    },
    {
      "cell_type": "markdown",
      "id": "22a651db",
      "metadata": {
        "id": "22a651db"
      },
      "source": [
        "# 7. Число словами 🌶️\n",
        "Напишите функцию number_to_words(num), которая принимает в качестве аргумента натуральное число num и возвращает его словесное описание на русском языке.\n",
        "\n",
        "Примечание 1. Считайте, что число 1≤num ≤99.\n",
        "\n",
        "Примечание 2. Следующий программный код:\n",
        "```python\n",
        "print(number_to_words(7))\n",
        "print(number_to_words(85))\n",
        "```\n",
        "должен выводить:\n",
        "```\n",
        "семь\n",
        "восемьдесят пять\n",
        "```"
      ]
    },
    {
      "cell_type": "code",
      "execution_count": 4,
      "id": "3e6f09e2",
      "metadata": {
        "colab": {
          "base_uri": "https://localhost:8080/",
          "height": 0
        },
        "id": "3e6f09e2",
        "outputId": "a068956a-cd4a-4790-ecfe-6d06636b0642"
      },
      "outputs": [
        {
          "output_type": "stream",
          "name": "stdout",
          "text": [
            "3\n",
            "три\n"
          ]
        }
      ],
      "source": [
        "# объявление функции\n",
        "def number_to_words(num):\n",
        "    list_1 = ['один', 'два', 'три', 'четыре', 'пять', 'шесть', 'семь', 'восемь', 'девять', 'десять']\n",
        "    list_11 = ['одиннадцать', 'двенадцать', 'тринадцать', 'четырнадцать', 'пятнадцать', 'шестнадцать', 'семнадцать', 'восемнадцать', 'девятнадцать']\n",
        "    list_21 = ['двадцать', 'тридцать', 'сорок', 'пятьдесят', 'шестьдесят', 'семьдесят', 'восемьдесят', 'девяносто']\n",
        "    if 0 < num <= 10:\n",
        "        return list_1[num - 1]\n",
        "    if 10 < num < 20:\n",
        "        return list_11[num - 11]\n",
        "    if 20 < num <= 99 and num != 30 and num != 40 and num != 50 and num != 60 and num != 70 and num != 80 and num != 90:\n",
        "        return list_21[(num // 10) - 2] + ' ' + list_1[(num % 10) - 1]\n",
        "    if num == 20 or num == 30 or num == 40 or num == 50 or num == 60 or num == 70 or num == 80 or num == 90:\n",
        "        return list_21[num // 10 - 2]\n",
        "\n",
        "# считываем данные\n",
        "n = int(input())\n",
        "\n",
        "# вызываем функцию\n",
        "print(number_to_words(n))"
      ]
    },
    {
      "cell_type": "markdown",
      "id": "6adefe28",
      "metadata": {
        "id": "6adefe28"
      },
      "source": [
        "# 8. Искомый месяц\n",
        "Напишите функцию get_month(language, number), которая принимает на вход два аргумента language – язык ru или en и number – номер месяца (от 1 до 12) и возвращает название месяца на русском или английском языке.\n",
        "\n",
        "Примечание. Следующий программный код:\n",
        "```python\n",
        "print(get_month('ru', 1))\n",
        "print(get_month('ru', 12))\n",
        "print(get_month('en', 1))\n",
        "print(get_month('en', 10))\n",
        "```\n",
        "должен выводить:\n",
        "```\n",
        "январь\n",
        "декабрь\n",
        "january\n",
        "october\n",
        "```"
      ]
    },
    {
      "cell_type": "code",
      "execution_count": 6,
      "id": "5fd525c1",
      "metadata": {
        "colab": {
          "base_uri": "https://localhost:8080/"
        },
        "id": "5fd525c1",
        "outputId": "e0910d86-5c1f-46d4-f0fe-eb521a6a258a"
      },
      "outputs": [
        {
          "output_type": "stream",
          "name": "stdout",
          "text": [
            "ru\n",
            "3\n",
            "март\n"
          ]
        }
      ],
      "source": [
        "# объявление функции\n",
        "def get_month(language, number):\n",
        "    lng_ru = ['январь', 'февраль', 'март', 'апрель', 'май', 'июнь', 'июль', 'август', 'сентябрь', 'октябрь', 'ноябрь', 'декабрь']\n",
        "\n",
        "    lng_en = ['january', 'february', 'march', 'april', 'may', 'june', 'july', 'august', 'september', 'october', 'november', 'december']\n",
        "    if lan == 'ru':\n",
        "        return lng_ru[num - 1]\n",
        "    if lan == 'en':\n",
        "        return lng_en[num - 1]\n",
        "    \n",
        "\n",
        "# считываем данные\n",
        "lan = input()\n",
        "num = int(input())\n",
        "\n",
        "# вызываем функцию\n",
        "print(get_month(lan, num))"
      ]
    },
    {
      "cell_type": "markdown",
      "id": "e88bcb33",
      "metadata": {
        "id": "e88bcb33"
      },
      "source": [
        "# 9. Магические даты\n",
        "Магическая дата – это дата, когда день, умноженный на месяц, равен числу образованному последними двумя цифрами года.\n",
        "\n",
        "Напишите функцию, is_magic(date) которая принимает в качестве аргумента строковое представление корректой даты и возвращает значение True если дата является магической и False в противном случае.\n",
        "\n",
        "Примечание. Следующий программный код:\n",
        "```python\n",
        "print(is_magic('10.06.1960'))\n",
        "print(is_magic('11.06.1960'))\n",
        "```\n",
        "должен выводить:\n",
        "```\n",
        "True\n",
        "False\n",
        "```"
      ]
    },
    {
      "cell_type": "code",
      "execution_count": 7,
      "id": "b29998af",
      "metadata": {
        "colab": {
          "base_uri": "https://localhost:8080/"
        },
        "id": "b29998af",
        "outputId": "5df5364e-a8ac-40bf-833f-e40f54e1af72"
      },
      "outputs": [
        {
          "output_type": "stream",
          "name": "stdout",
          "text": [
            "15.03.1945\n",
            "True\n"
          ]
        }
      ],
      "source": [
        "# объявление функции\n",
        "def is_magic(date):\n",
        "    return int(date[0:2]) * int(date[3:5]) == int(date[8:10])\n",
        "\n",
        "# считываем данные\n",
        "date = input()\n",
        "\n",
        "# вызываем функцию\n",
        "print(is_magic(date))"
      ]
    },
    {
      "cell_type": "markdown",
      "id": "676ebe94",
      "metadata": {
        "id": "676ebe94"
      },
      "source": [
        "# 10. Панграммы\n",
        "Панграмма – это фраза, содержащая в себе все буквы алфавита. Обычно панграммы используют для презентации шрифтов, чтобы можно было в одной фразе рассмотреть все глифы.\n",
        "\n",
        "Напишите функцию, is_pangram(text) которая принимает в качестве аргумента строку текста на английском языке и возвращает значение True если текст является панграммой и False в противном случае.\n",
        "\n",
        "Примечание 1. Гарантируется, что введенная строка содержит только буквы английского алфавита.\n",
        "\n",
        "Примечание 2. Следующий программный код:\n",
        "```python\n",
        "print(is_pangram('Jackdaws love my big sphinx of quartz'))\n",
        "print(is_pangram('The jay pig fox zebra and my wolves quack'))\n",
        "print(is_pangram('Hello world'))\n",
        "```\n",
        "должен выводить:\n",
        "```\n",
        "True\n",
        "True\n",
        "False\n",
        "```"
      ]
    },
    {
      "cell_type": "code",
      "execution_count": 8,
      "id": "4753147a",
      "metadata": {
        "colab": {
          "base_uri": "https://localhost:8080/"
        },
        "id": "4753147a",
        "outputId": "abe8ed74-476b-44ac-ec95-4c42143b1694"
      },
      "outputs": [
        {
          "output_type": "stream",
          "name": "stdout",
          "text": [
            "The quick brown fox jumps over the lazy dog\n",
            "True\n"
          ]
        }
      ],
      "source": [
        "# объявление функции\n",
        "def is_pangram(text):\n",
        "    alphabet = \"abcdefghijklmnopqrstuvwxyz\"\n",
        "\n",
        "    for char in alphabet:\n",
        "        if char not in text.lower():\n",
        "            return False\n",
        "    return True\n",
        "\n",
        "# считываем данные\n",
        "text = input()\n",
        "\n",
        "# вызываем функцию\n",
        "print(is_pangram(text))"
      ]
    }
  ],
  "metadata": {
    "kernelspec": {
      "display_name": "Python 3 (ipykernel)",
      "language": "python",
      "name": "python3"
    },
    "language_info": {
      "codemirror_mode": {
        "name": "ipython",
        "version": 3
      },
      "file_extension": ".py",
      "mimetype": "text/x-python",
      "name": "python",
      "nbconvert_exporter": "python",
      "pygments_lexer": "ipython3",
      "version": "3.9.12"
    },
    "colab": {
      "provenance": []
    }
  },
  "nbformat": 4,
  "nbformat_minor": 5
}