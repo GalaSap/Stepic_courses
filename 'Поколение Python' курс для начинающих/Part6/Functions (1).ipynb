{
  "cells": [
    {
      "cell_type": "markdown",
      "id": "2b5e2178",
      "metadata": {
        "id": "2b5e2178"
      },
      "source": [
        "# 1. Отдельная функционально независимая часть программы, решающая определенную задачу, называется\n",
        "\n",
        "\n",
        "* **функцией**\n",
        "\n",
        "* параметром\n",
        "\n",
        "* блоком\n",
        "\n",
        "* выражением\n",
        "\n",
        "# 2. Первая строка определения функции называется \n",
        "\n",
        "\n",
        "* введением\n",
        "\n",
        "* телом\n",
        "\n",
        "* **заголовком**\n",
        "\n",
        "* инициализацией\n",
        "\n",
        "\n",
        "# 3. Программный код, содержащийся в функции, называется\n",
        "\n",
        "\n",
        "* инициализацией\n",
        "\n",
        "* введением\n",
        "\n",
        "* заголовком\n",
        "\n",
        "* **телом**\n",
        "\n",
        "\n",
        "# 4. Для того чтобы выполнить функцию, ее\n",
        "\n",
        "\n",
        "* экспортируют\n",
        "\n",
        "* импортируют\n",
        "\n",
        "* **вызывают**\n",
        "\n",
        "* определяют\n",
        "\n",
        "\n",
        "# 5. Какие из имен допустимы для названия функции в Python?\n",
        "\n",
        "\n",
        "* **_myfunction**\n",
        "\n",
        "* **draw_triangle**\n",
        "\n",
        "* 1check_condition\n",
        "\n",
        "* **print_numbers**\n",
        "\n",
        "* **find_sum_1**\n",
        "\n",
        "* **is_valid**\n",
        "\n",
        "\n",
        "# 6. Для чего используется оператор pass?\n",
        "\n",
        "\n",
        "* для прерывания функции\n",
        "\n",
        "* для возврата значения из функции\n",
        "\n",
        "* **для создания заглушки**\n",
        "\n",
        "\n",
        "# 7. Звездный прямоугольник 1\n",
        "Напишите функцию draw_box(), которая выводит звездный прямоугольник с размерами 14×10 в соответствии с образцом:\n",
        "```\n",
        "**********\n",
        "*        *\n",
        "*        *\n",
        "*        *\n",
        "*        *\n",
        "*        *\n",
        "*        *\n",
        "*        *\n",
        "*        *\n",
        "*        *\n",
        "*        *\n",
        "*        *\n",
        "*        *\n",
        "**********\n",
        "```\n",
        "Примечание. Для вывода прямоугольника используйте цикл for.  "
      ]
    },
    {
      "cell_type": "code",
      "execution_count": 1,
      "id": "38739069",
      "metadata": {
        "colab": {
          "base_uri": "https://localhost:8080/"
        },
        "id": "38739069",
        "outputId": "af389b4c-fae8-4e8f-ad53-deda9c90afd0"
      },
      "outputs": [
        {
          "output_type": "stream",
          "name": "stdout",
          "text": [
            "**********\n",
            "*        *\n",
            "*        *\n",
            "*        *\n",
            "*        *\n",
            "*        *\n",
            "*        *\n",
            "*        *\n",
            "*        *\n",
            "*        *\n",
            "*        *\n",
            "*        *\n",
            "*        *\n",
            "**********\n"
          ]
        }
      ],
      "source": [
        "print('*' * 10)\n",
        "for _ in range(12):\n",
        "    print('*        *')\n",
        "print('*' * 10)"
      ]
    },
    {
      "cell_type": "markdown",
      "id": "5e6e0ef0",
      "metadata": {
        "id": "5e6e0ef0"
      },
      "source": [
        "# 8. Звездный треугольник 1\n",
        "Напишите функцию draw_triangle(), которая выводит звездный прямоугольный треугольник с катетами, равными 10 в соответствии с образцом:\n",
        "```\n",
        "*\n",
        "**\n",
        "***\n",
        "****\n",
        "*****\n",
        "******\n",
        "*******\n",
        "********\n",
        "*********\n",
        "**********\n",
        "```\n",
        "Примечание. Для вывода треугольника используйте цикл for.  "
      ]
    },
    {
      "cell_type": "code",
      "execution_count": 2,
      "id": "31b1d871",
      "metadata": {
        "colab": {
          "base_uri": "https://localhost:8080/"
        },
        "id": "31b1d871",
        "outputId": "23cb5db7-7982-405e-8870-0b0d7572a3a5"
      },
      "outputs": [
        {
          "output_type": "stream",
          "name": "stdout",
          "text": [
            "*\n",
            "**\n",
            "***\n",
            "****\n",
            "*****\n",
            "******\n",
            "*******\n",
            "********\n",
            "*********\n",
            "**********\n"
          ]
        }
      ],
      "source": [
        "# объявление функции\n",
        "def draw_triangle():\n",
        "    pass\n",
        "\n",
        "for i in range(1, 11):\n",
        "    print('*' * i)\n",
        "draw_triangle()  # вызов функции"
      ]
    },
    {
      "cell_type": "markdown",
      "id": "e9b33c13",
      "metadata": {
        "id": "e9b33c13"
      },
      "source": [
        "# 9. Порция данных, которая отправляется в функцию называется\n",
        "\n",
        "\n",
        "* **аргумент**\n",
        "\n",
        "* параметр\n",
        "\n",
        "* заголовок\n",
        "\n",
        "* пакет\n",
        "\n",
        "# 10. Особая переменная, которая получает порцию данных, когда вызывается функция называется\n",
        "\n",
        "\n",
        "* заголовок\n",
        "\n",
        "* пакет\n",
        "\n",
        "* **параметр**\n",
        "\n",
        "* аргумент\n",
        "\n",
        "# 11. Взгляните на приведенный ниже заголовок функции:\n",
        "```python\n",
        "def my_function(a, b, с):\n",
        "```\n",
        "Теперь взгляните на вызов этой функции:\n",
        "\n",
        "```python\n",
        "my_function(3, 2, 1)\n",
        "```\n",
        "Какие значения будут присвоены параметрам a, b, c когда вызов исполнится?\n",
        "\n",
        "a - `3`\n",
        "b - `2`\n",
        "c - `1`\n",
        "\n",
        "# 12. Взгляните на приведенное ниже определение функции:\n",
        "```python\n",
        "def print_number(a, b, c):\n",
        "    d = (a + c) // b\n",
        "    print(d)\n",
        "```\n",
        "Какое значение будет показано, после вызова функции print_number(2, 3, 11)?\n",
        "\n",
        "\n",
        "Ответ: `4`\n",
        "\n",
        "\n",
        "# 13. Что покажет приведенная ниже программа?\n",
        "```python\n",
        "def change_us(a, b):\n",
        "    a = 0\n",
        "    b = 0\n",
        "    print(a, b)\n",
        "\n",
        "x = 1\n",
        "y = 7\n",
        "print(x, y)\n",
        "change_us(x, y)\n",
        "print(x, y)\n",
        "```\n",
        "\n",
        "\n",
        "   **1 7**\n",
        "\n",
        "   **0 0**\n",
        "\n",
        "   **0 0**\n",
        "\n",
        "\n",
        "```\n",
        "1 7\n",
        "0 0\n",
        "1 7\n",
        "```\n",
        "\n",
        "```\n",
        "1 7\n",
        "1 0\n",
        "1 7\n",
        "```\n",
        "\n",
        "\n",
        "# 14. Что покажет приведенная ниже программа?\n",
        "```python\n",
        "def print_text(text, num):\n",
        "    while num > 0:\n",
        "        print(text, end='')\n",
        "        num -= 1\n",
        "\n",
        "print_text('Python', 4)\n",
        "```\n",
        "\n",
        "\n",
        "* Python\n",
        "\n",
        "* PythonPythonPython\n",
        "\n",
        "* **PythonPythonPythonPython**\n",
        "\n",
        "* PythonPythonPythonPythonPython\n",
        "\n",
        "\n",
        "# 15. Звездный треугольник\n",
        "Напишите функцию draw_triangle(fill, base), которая принимает два параметра:\n",
        "\n",
        "* fill – символ заполнитель;\n",
        "* base – величина основания равнобедренного треугольника;\n",
        "\n",
        "а затем выводит его.\n",
        "\n",
        "Примечание. Гарантируется, что основание треугольника – нечетное число."
      ]
    },
    {
      "cell_type": "code",
      "execution_count": 3,
      "id": "1a12c7ff",
      "metadata": {
        "colab": {
          "base_uri": "https://localhost:8080/"
        },
        "id": "1a12c7ff",
        "outputId": "195d5502-55f9-4bac-ac5e-95aa23dbb3f3"
      },
      "outputs": [
        {
          "output_type": "stream",
          "name": "stdout",
          "text": [
            "+\n",
            "5\n",
            "+\n",
            "++\n",
            "+++\n",
            "++\n",
            "+\n"
          ]
        }
      ],
      "source": [
        "# объявление функции\n",
        "def draw_triangle(fill, base):\n",
        "    pass\n",
        "\n",
        "# считываем данные\n",
        "fill = input()\n",
        "base = int(input())\n",
        "\n",
        "for i in range(1, base // 2 + 2):\n",
        "    print(fill * i, end='')\n",
        "    print()\n",
        "for j in range(base // 2, 0, -1):\n",
        "    print(fill * j, end='')\n",
        "    print()\n",
        "# вызываем функцию\n",
        "draw_triangle(fill, base)"
      ]
    },
    {
      "cell_type": "markdown",
      "id": "a7d2c7e7",
      "metadata": {
        "id": "a7d2c7e7"
      },
      "source": [
        "# 16. ИО\n",
        "Напишите функцию print_fio(name, surname, patronymic), которая принимает три параметра:\n",
        "\n",
        "* name – имя человека;\n",
        "* surname – фамилия человека;\n",
        "* patronymic – отчество человека;\n",
        "\n",
        "а затем выводит на печать ФИО человека.\n",
        "\n",
        "Примечание. Предусмотрите тот факт, что все три буквы в ФИО должны иметь верхний регистр."
      ]
    },
    {
      "cell_type": "code",
      "execution_count": null,
      "id": "4418a300",
      "metadata": {
        "id": "4418a300",
        "outputId": "3230439a-813c-4a95-b4b1-46397ed2f1dd"
      },
      "outputs": [
        {
          "name": "stdout",
          "output_type": "stream",
          "text": [
            "Александр\n",
            "Пушкин\n",
            "Сергеевич\n",
            "ПАС\n"
          ]
        }
      ],
      "source": [
        "# объявление функции\n",
        "def print_fio(name, surname, patronymic):\n",
        "    print(surname[0] + name[0] + patronymic[0])\n",
        "name = input().upper()\n",
        "surname = input().upper()\n",
        "patronymic = input().upper()\n",
        "        \n",
        "# основная программа\n",
        "print_fio(name, surname, patronymic)  # вызов функции"
      ]
    },
    {
      "cell_type": "markdown",
      "id": "2fe7ea2a",
      "metadata": {
        "id": "2fe7ea2a"
      },
      "source": [
        "# 17. Сумма цифр\n",
        "Напишите функцию print_digit_sum(), которая принимает одно целое число num и выводит на печать сумму его цифр."
      ]
    },
    {
      "cell_type": "code",
      "execution_count": 4,
      "id": "24a83f60",
      "metadata": {
        "colab": {
          "base_uri": "https://localhost:8080/"
        },
        "id": "24a83f60",
        "outputId": "8bf33cfc-ffe6-4ad1-e9b0-04a449772886"
      },
      "outputs": [
        {
          "output_type": "stream",
          "name": "stdout",
          "text": [
            "12345\n",
            "15\n"
          ]
        }
      ],
      "source": [
        "# объявление функции\n",
        "def print_digit_sum(num):\n",
        "    print(sum(int(i) for i in str(num))) \n",
        "\n",
        "# считываем данные\n",
        "n = int(input())\n",
        "\n",
        "# вызываем функцию\n",
        "print_digit_sum(n)"
      ]
    },
    {
      "cell_type": "markdown",
      "id": "ae8596c5",
      "metadata": {
        "id": "ae8596c5"
      },
      "source": [
        "# 18. Переменная, которая создается внутри функции называется\n",
        "\n",
        "\n",
        "* ничего из вышеперечисленного; вы не можете создавать переменную внутри функции\n",
        "\n",
        "* скрытая переменная\n",
        "\n",
        "* глобальная переменная\n",
        "\n",
        "* **локальная переменная**\n",
        "\n",
        "# 19. Часть программы, в которой можно получать доступ к переменной, называется\n",
        "\n",
        "* область объявлений\n",
        "\n",
        "* область видимости\n",
        "\n",
        "* **область действия**\n",
        "\n",
        "* режим\n",
        "\n",
        "# 20. Что покажет приведенная ниже программа?\n",
        "```python\n",
        "def print_paris(): \n",
        "    print(s) \n",
        "    s = 'I love Paris'\n",
        "print_paris()\n",
        "```\n",
        "\n",
        "\n",
        "* I love Paris\n",
        "\n",
        "* ничего не покажет\n",
        "\n",
        "* **UnboundLocalError: local variable 's' referenced before assignment**\n",
        "\n",
        "# 21. Разрешается ли, чтобы локальная переменная в одной функции имела то же имя, что и локальная переменная в другой функции?\n",
        "\n",
        "\n",
        "* нет\n",
        "\n",
        "* **да**\n",
        "\n",
        "# 22. Что покажет приведенная ниже программа?\n",
        "```python\n",
        "def print_paris(): \n",
        "    s = 'I love Paris'\n",
        "    print(s) \n",
        "\n",
        "def print_london():\n",
        "    s = 'I love London'\n",
        "    print(s) \n",
        "\n",
        "s = 'I love Moscow'\n",
        "print_paris()\n",
        "print_london()\n",
        "print(s)\n",
        "```\n",
        "\n",
        "\n",
        "**I love Paris**\n",
        "\n",
        "**I love London**\n",
        "\n",
        "**I love Moscow**\n",
        "\n",
        "I love Moscow\n",
        "\n",
        "I love Moscow\n",
        "\n",
        "I love Moscow\n",
        "\n",
        "I love London\n",
        "\n",
        "I love Paris\n",
        "\n",
        "I love Moscow\n",
        "\n",
        "\n",
        "# 23. Что покажет приведенная ниже программа?\n",
        "```python\n",
        "def swap(a, b):\n",
        "    a, b = b, a\n",
        "\n",
        "a = 4\n",
        "b = 3\n",
        "swap(a, b)\n",
        "print(a - b)\n",
        "```\n",
        "\n",
        "\n",
        "* 0\n",
        "\n",
        "* 3\n",
        "\n",
        "* **1**\n",
        "\n",
        "* -1\n",
        "\n",
        "* 4\n",
        "\n",
        "# 24. Какие из переменных в приведенном ниже коде являются локальными?\n",
        "```python\n",
        "number = 101\n",
        "\n",
        "def is_prime(num):\n",
        "    flag = True\n",
        "    for i in range(2, num):\n",
        "        if num % i == 0:\n",
        "            flag = False\n",
        "            break\n",
        "    if num != 1 and flag == True:\n",
        "        print('Число', num, 'простое.')\n",
        "    else:\n",
        "        print('Число', num, 'составное.')\n",
        "\n",
        "\n",
        "x = 17\n",
        "y = int(input())\n",
        "is_prime(x)\n",
        "is_prime(y)\n",
        "is_prime(number)\n",
        "```\n",
        "\n",
        "\n",
        "* **num**\n",
        "\n",
        "* number\n",
        "\n",
        "* **i**\n",
        "\n",
        "* y\n",
        "\n",
        "* x\n",
        "\n",
        "* **flag**\n",
        "\n",
        "\n",
        "# 25. Переменная, которая видима любой функции в программном файле, называется\n",
        "\n",
        "\n",
        "* универсальной переменной\n",
        "\n",
        "* **глобальной переменной**\n",
        "\n",
        "* программной переменной\n",
        "\n",
        "* локальной переменной\n",
        "\n",
        "\n",
        "# 26. По мере возможности вам следует избегать использования в программе\n",
        "\n",
        "\n",
        "* ссылочных переменных\n",
        "\n",
        "* параметрических переменных\n",
        "\n",
        "* **глобальных переменных**\n",
        "\n",
        "* локальных переменных\n",
        "\n",
        "\n",
        "# 27. Что покажет приведенная ниже программа?\n",
        "```python\n",
        "x = 5\n",
        "\n",
        "def add():\n",
        "    x = 3\n",
        "    x = x + 5\n",
        "    print(x)\n",
        "\n",
        "add()\n",
        "print(x)\n",
        "```\n",
        "\n",
        "```\n",
        "8\n",
        "8\n",
        "```\n",
        "```\n",
        "3\n",
        "8\n",
        "```\n",
        "\n",
        "**8**\n",
        "**5**\n",
        "```\n",
        "5\n",
        "5\n",
        "```\n",
        "\n",
        "# 28. Что покажет приведенная ниже программа?\n",
        "```python\n",
        "x = 5\n",
        "\n",
        "def add():\n",
        "    global x\n",
        "    x = 3\n",
        "    x = x + 5\n",
        "    print(x)\n",
        "\n",
        "add()\n",
        "print(x)\n",
        "```\n",
        "\n",
        "\n",
        "```\n",
        "5\n",
        "5\n",
        "```\n",
        "```\n",
        "3\n",
        "8\n",
        "```\n",
        "\n",
        "**8**\n",
        "**8**\n",
        "\n",
        "```\n",
        "8\n",
        "5\n",
        "```\n",
        "\n",
        "# 29. Выберите верные утверждения.\n",
        "\n",
        "\n",
        "* **локальные переменные, определенные в пределах функции, действуют только в ней**\n",
        "\n",
        "* **глобальные переменные доступны для всех функций**\n",
        "\n",
        "* **функция вызывается по своему имени с указанием необходимых аргументов**\n",
        "\n",
        "* **после выхода из функции локальные переменные станут недоступны**\n",
        "\n",
        "\n",
        "# 30. Функция do_something() определена следующим образом:\n",
        "```python\n",
        "def do_something(number):\n",
        "    return number * 2\n",
        "```\n",
        "Что будет выведено в результате выполнения следующего программного кода? \n",
        "```python\n",
        "print(do_something(10))\n",
        "```\n",
        "\n",
        "\n",
        "* do_something(10)\n",
        "\n",
        "* **20**\n",
        "\n",
        "* 10\n",
        "\n",
        "* number * 2\n",
        "\n",
        "\n",
        "# 31. Функция do_something() определена следующим образом:\n",
        "```python\n",
        "def do_something(numbers):\n",
        "    result = 1\n",
        "    for i in numbers:\n",
        "        result *= i    \n",
        "    return result\n",
        "```\n",
        "Что будет выведено в результате выполнения следующего программного кода? \n",
        "```python\n",
        "print(do_something([2, 2, 2, 2]))\n",
        "```\n",
        "\n",
        "\n",
        "\n",
        "* 24\n",
        "\n",
        "* **16**\n",
        "\n",
        "* 6\n",
        "\n",
        "* 8\n",
        "\n",
        "# 32. Функция get_sum() определена следующим образом:\n",
        "```python\n",
        "def get_sum(x, y, z):\n",
        "    return x + y + z\n",
        "    print('Сумма равна', x + y + z)\n",
        "```\n",
        "Что будет выведено в результате выполнения следующего программного кода? \n",
        "```python\n",
        "print(get_sum(1, 2, 3))\n",
        "```\n",
        "\n",
        "\n",
        "* **6**\n",
        "\n",
        "* Сумма равна 6\n",
        "\n",
        "* 6 Сумма равна 6\n",
        "\n",
        "* Сумма равна 6 6\n",
        "\n",
        "# 33. Конвертер километров\n",
        "Напишите функцию convert_to_miles(km), которая принимает в качестве аргумента расстояние в километрах и возвращает расстояние в милях. Формула для преобразования: мили = километры * 0.6214.\n",
        "\n",
        "Примечание. Следующий программный код:\n",
        "```python\n",
        "print(convert_to_miles(1))\n",
        "print(convert_to_miles(5))\n",
        "print(convert_to_miles(10))\n",
        "```\n",
        "должен выводить:\n",
        "\n",
        "0.6214\n",
        "3.107\n",
        "6.214"
      ]
    },
    {
      "cell_type": "code",
      "execution_count": 5,
      "id": "82d036d5",
      "metadata": {
        "colab": {
          "base_uri": "https://localhost:8080/"
        },
        "id": "82d036d5",
        "outputId": "f0a50bef-4c50-4fec-e81a-bad80e299c07"
      },
      "outputs": [
        {
          "output_type": "stream",
          "name": "stdout",
          "text": [
            "1\n",
            "0.6214\n"
          ]
        }
      ],
      "source": [
        "def convert_to_miles(km):\n",
        "    return num * 0.6214\n",
        "\n",
        "num = int(input())\n",
        "\n",
        "\n",
        "print(convert_to_miles(num))"
      ]
    },
    {
      "cell_type": "markdown",
      "id": "8203f1dc",
      "metadata": {
        "id": "8203f1dc"
      },
      "source": [
        "# 34. Количество дней\n",
        "Напишите функцию get_days(month), которая принимает в качестве аргумента номер месяца и возвращает количество дней в данном месяце.\n",
        "\n",
        "Примечание 1. Гарантируется, что передаваемый аргумент находится в диапазоне от 1 до 12.\n",
        "\n",
        "Примечание 2. Считайте, что год является невисокосным.\n",
        "\n",
        "Примечание 3. Следующий программный код:\n",
        "```python\n",
        "print(get_days(1))\n",
        "print(get_days(2))\n",
        "print(get_days(9))\n",
        "```\n",
        "должен выводить:\n",
        "```\n",
        "31\n",
        "28\n",
        "30\n",
        "```"
      ]
    },
    {
      "cell_type": "code",
      "execution_count": 6,
      "id": "6059516e",
      "metadata": {
        "colab": {
          "base_uri": "https://localhost:8080/"
        },
        "id": "6059516e",
        "outputId": "10655bc6-f450-48fa-f7fc-f7872ba74337"
      },
      "outputs": [
        {
          "output_type": "stream",
          "name": "stdout",
          "text": [
            "1\n",
            "31\n"
          ]
        }
      ],
      "source": [
        "# объявление функции\n",
        "def get_days(month):\n",
        "    result = -1\n",
        "    if num == 1 or num == 3 or num == 5 or num == 7 or num == 8 or num == 10 or num == 12:\n",
        "        result = 31\n",
        "    elif num == 2:\n",
        "        result = 28\n",
        "    else:\n",
        "        result = 30\n",
        "    return result\n",
        "        \n",
        "num = int(input())\n",
        "\n",
        "# вызываем функцию\n",
        "print(get_days(num))"
      ]
    },
    {
      "cell_type": "markdown",
      "id": "671f9f39",
      "metadata": {
        "id": "671f9f39"
      },
      "source": [
        "# 35. Делители 1\n",
        "Напишите функцию get_factors(num), принимающую в качестве аргумента натуральное число и возвращающую список всех делителей данного числа.\n",
        "\n",
        "Примечание. Следующий программный код:\n",
        "```python\n",
        "print(get_factors(1))\n",
        "print(get_factors(5))\n",
        "print(get_factors(10))\n",
        "```\n",
        "должен выводить:\n",
        "```\n",
        "[1]\n",
        "[1, 5]\n",
        "[1, 2, 5, 10]\n",
        "```"
      ]
    },
    {
      "cell_type": "code",
      "execution_count": 7,
      "id": "f6a8af5f",
      "metadata": {
        "colab": {
          "base_uri": "https://localhost:8080/"
        },
        "id": "f6a8af5f",
        "outputId": "5f360399-8392-4206-9164-d76961d32624"
      },
      "outputs": [
        {
          "output_type": "stream",
          "name": "stdout",
          "text": [
            "5\n",
            "[1, 5]\n"
          ]
        }
      ],
      "source": [
        "# объявление функции\n",
        "def get_factors(num):\n",
        "    s = []\n",
        "    for i in range(1, n + 1):\n",
        "        if n % i == 0:\n",
        "            s.append(i)\n",
        "    return s\n",
        "\n",
        "# считываем данные\n",
        "n = int(input())\n",
        "\n",
        "# вызываем функцию\n",
        "print(get_factors(n))"
      ]
    },
    {
      "cell_type": "markdown",
      "id": "6921a78b",
      "metadata": {
        "id": "6921a78b"
      },
      "source": [
        "# 36. Делители 2\n",
        "Напишите функцию number_of_factors(num), принимающую в качестве аргумента число и возвращающую количество делителей данного числа.\n",
        "\n",
        "Примечание 1. Используйте уже реализованную функцию get_factors(num) из предыдущей задачи.\n",
        "\n",
        "Примечание 2. Следующий программный код:\n",
        "```python\n",
        "print(number_of_factors(1))\n",
        "print(number_of_factors(5))\n",
        "print(number_of_factors(10))\n",
        "```\n",
        "должен выводить:\n",
        "```\n",
        "1\n",
        "2\n",
        "4\n",
        "```"
      ]
    },
    {
      "cell_type": "code",
      "execution_count": 8,
      "id": "199b1930",
      "metadata": {
        "colab": {
          "base_uri": "https://localhost:8080/"
        },
        "id": "199b1930",
        "outputId": "e9e8c4b0-f35a-47a5-82f0-32b5895ae755"
      },
      "outputs": [
        {
          "output_type": "stream",
          "name": "stdout",
          "text": [
            "10\n",
            "4\n"
          ]
        }
      ],
      "source": [
        "# объявление функции\n",
        "def number_of_factors(num):\n",
        "    s = 0\n",
        "    for i in range(1, n + 1):\n",
        "        if n % i == 0:\n",
        "            s += 1\n",
        "    return s\n",
        "\n",
        "# считываем данные\n",
        "n = int(input())\n",
        "\n",
        "# вызываем функцию\n",
        "print(number_of_factors(n))"
      ]
    },
    {
      "cell_type": "markdown",
      "id": "cb280795",
      "metadata": {
        "id": "cb280795"
      },
      "source": [
        "# 37. Найти всех\n",
        "Напомним, что строковый метод find('a') возвращает местоположение первого вхождения символа a в строке. Проблема заключается в том, что данный метод не находит местоположение всех символов а.\n",
        "\n",
        "Напишите функцию с именем find_all(target, symbol), которая принимает два аргумента: строку target и символ symbol и возвращает список, содержащий все местоположения этого символа в строке.\n",
        "\n",
        "Примечание 1. Если указанный символ не встречается в строке, то следует вернуть пустой список.\n",
        "\n",
        "Примечание 2. Следующий программный код:\n",
        "```python\n",
        "print(find_all('abcdabcaaa', 'a'))\n",
        "print(find_all('abcadbcaaa', 'e'))\n",
        "print(find_all('abcadbcaaa', 'd'))\n",
        "```\n",
        "должен выводить:\n",
        "```\n",
        "[0, 4, 7, 8, 9]\n",
        "[]\n",
        "[4]\n",
        "```"
      ]
    },
    {
      "cell_type": "code",
      "execution_count": 10,
      "id": "2bf3371a",
      "metadata": {
        "colab": {
          "base_uri": "https://localhost:8080/"
        },
        "id": "2bf3371a",
        "outputId": "497aec23-7023-4dd1-b8dd-48ae78b4cd89"
      },
      "outputs": [
        {
          "output_type": "stream",
          "name": "stdout",
          "text": [
            "abcdabcaaa\n",
            "a\n",
            "[0, 4, 7, 8, 9]\n"
          ]
        }
      ],
      "source": [
        "# объявление функции\n",
        "def find_all(target, symbol):\n",
        "    return [x for x in range(len(target)) if target[x] == symbol]\n",
        "\n",
        "# считываем данные\n",
        "s = input()\n",
        "char = input()\n",
        "\n",
        "# вызываем функцию\n",
        "print(find_all(s, char))"
      ]
    },
    {
      "cell_type": "markdown",
      "id": "01250876",
      "metadata": {
        "id": "01250876"
      },
      "source": [
        "# 38. Merge lists 1\n",
        "Напишите функцию merge(list1, list2), которая принимает в качестве аргументов два отсортированных по возрастанию списка, состоящих из целых чисел, и объединяет их в один отсортированный список.\n",
        "\n",
        "Примечание 1. Списки list1 и list2 могут иметь разную длину.\n",
        "\n",
        "Примечание 2. Можно использовать списочный метод sort(), а можно обойтись и без него 😎.\n",
        "\n",
        "Примечание 3. Следующий программный код:\n",
        "```python\n",
        "print(merge([1, 2, 3], [5, 6, 7, 8]))\n",
        "print(merge([1, 7, 10, 16], [5, 6, 13, 20]))\n",
        "```\n",
        "должен выводить:\n",
        "```\n",
        "[1, 2, 3, 5, 6, 7, 8]\n",
        "[1, 5, 6, 7, 10, 13, 16, 20]\n",
        "```"
      ]
    },
    {
      "cell_type": "code",
      "execution_count": 11,
      "id": "99af4626",
      "metadata": {
        "colab": {
          "base_uri": "https://localhost:8080/"
        },
        "id": "99af4626",
        "outputId": "9688c23a-da19-469d-8781-9ab10b3ec929"
      },
      "outputs": [
        {
          "output_type": "stream",
          "name": "stdout",
          "text": [
            "1 2 3\n",
            "4 5 6\n",
            "[1, 2, 3, 4, 5, 6]\n"
          ]
        }
      ],
      "source": [
        "# объявление функции\n",
        "def merge(list1, list2):\n",
        "    return sorted(list1 + list2)\n",
        "\n",
        "# считываем данные\n",
        "numbers1 = [int(c) for c in input().split()]\n",
        "numbers2 = [int(c) for c in input().split()]\n",
        "\n",
        "# вызываем функцию\n",
        "print(merge(numbers1, numbers2))"
      ]
    },
    {
      "cell_type": "markdown",
      "id": "046bb6f3",
      "metadata": {
        "id": "046bb6f3"
      },
      "source": [
        "# 39. Merge lists 2\n",
        "На вход программе подается число n, а затем n строк, содержащих целые числа в порядке возрастания. Из данных строк формируются списки чисел. Напишите программу, которая объединяет указанные списки в один отсортированный список с помощью функции quick_merge(), а затем выводит его.\n",
        "\n",
        "`Формат входных данных`\n",
        "\n",
        "На вход программе подается натуральное число n, а затем n строк, содержащих целые числа в порядке возрастания, разделенные символом пробела.\n",
        "\n",
        "`Формат выходных данных`\n",
        "\n",
        "Программа должна вывести текст в соответствии с условием задачи."
      ]
    },
    {
      "cell_type": "code",
      "execution_count": 13,
      "id": "0a99243c",
      "metadata": {
        "colab": {
          "base_uri": "https://localhost:8080/"
        },
        "id": "0a99243c",
        "outputId": "71c5568c-f3a7-4946-8c47-13526c2cd437"
      },
      "outputs": [
        {
          "output_type": "stream",
          "name": "stdout",
          "text": [
            "3\n",
            "1 2 3 4\n",
            "5 6 7\n",
            "5 6 7\n",
            "1 2 3 4 5 5 6 6 7 7\n"
          ]
        }
      ],
      "source": [
        "n=int(input())\n",
        "def quick_merge(n):\n",
        "    return sorted([int(i) for i in range(n) for i in input().split()])\n",
        "print(*quick_merge(n))\n"
      ]
    },
    {
      "cell_type": "markdown",
      "id": "8e6097d8",
      "metadata": {
        "id": "8e6097d8"
      },
      "source": [
        "# 40. Is Valid Triangle?\n",
        "Напишите функцию is_valid_triangle(side1, side2, side3), которая принимает в качестве аргументов три натуральных числа, и возвращает значение True если существует невырожденный треугольник со сторонами side1, side2, side3 и False в противном случае.\n",
        "\n",
        "Примечание 1. С данной задачей мы уже сталкивались при изучении условного оператора.\n",
        "\n",
        "Примечание 2. Следующий программный код:\n",
        "```python\n",
        "print(is_valid_triangle(2, 2, 2))\n",
        "print(is_valid_triangle(2, 3, 10))\n",
        "print(is_valid_triangle(3, 4, 5))\n",
        "```\n",
        "должен выводить:\n",
        "```\n",
        "True\n",
        "False\n",
        "True\n",
        "```"
      ]
    },
    {
      "cell_type": "code",
      "execution_count": 14,
      "id": "eda0c1ef",
      "metadata": {
        "colab": {
          "base_uri": "https://localhost:8080/"
        },
        "id": "eda0c1ef",
        "outputId": "32b8bbe4-656a-4afe-99c3-81637fa2cb06"
      },
      "outputs": [
        {
          "output_type": "stream",
          "name": "stdout",
          "text": [
            "2\n",
            "2\n",
            "2\n",
            "True\n"
          ]
        }
      ],
      "source": [
        "# объявление функции\n",
        "def is_valid_triangle(side1, side2, side3):\n",
        "    if side1 < (side2 + side3) and side2 < (side1 + side3) and side3 < (side1 + side2):\n",
        "        return True\n",
        "    else:\n",
        "        return False\n",
        "\n",
        "# считываем данные\n",
        "a, b, c = int(input()), int(input()), int(input())\n",
        "\n",
        "# вызываем функцию\n",
        "print(is_valid_triangle(a, b, c))"
      ]
    },
    {
      "cell_type": "markdown",
      "id": "e1ad2b1b",
      "metadata": {
        "id": "e1ad2b1b"
      },
      "source": [
        "# 41. Is a Number Prime? 🌶️\n",
        "Напишите функцию is_prime(num), которая принимает в качестве аргумента натуральное число и возвращает значение True если число является простым и False в противном случае.\n",
        "\n",
        "Примечание. Следующий программный код:\n",
        "```python\n",
        "print(is_prime(1))\n",
        "print(is_prime(10))\n",
        "print(is_prime(17))\n",
        "```\n",
        "должен выводить:\n",
        "```\n",
        "False\n",
        "False\n",
        "True\n",
        "```"
      ]
    },
    {
      "cell_type": "code",
      "execution_count": 15,
      "id": "d0c5b91f",
      "metadata": {
        "colab": {
          "base_uri": "https://localhost:8080/"
        },
        "id": "d0c5b91f",
        "outputId": "83c8a5aa-57c8-454d-b202-d6fb5a05fb3d"
      },
      "outputs": [
        {
          "output_type": "stream",
          "name": "stdout",
          "text": [
            "101\n",
            "True\n"
          ]
        }
      ],
      "source": [
        "# объявление функции\n",
        "def is_prime(num):\n",
        "    s = 0\n",
        "    for i in range(1, num + 1):\n",
        "        if num % i == 0:\n",
        "            s += 1\n",
        "    if s == 2:\n",
        "        return True\n",
        "    else:\n",
        "        return False\n",
        "         \n",
        "\n",
        "# считываем данные\n",
        "n = int(input())\n",
        "\n",
        "# вызываем функцию\n",
        "print(is_prime(n))"
      ]
    },
    {
      "cell_type": "markdown",
      "id": "f9c39c37",
      "metadata": {
        "id": "f9c39c37"
      },
      "source": [
        "# 42. Next Prime 🌶️🌶️\n",
        "Напишите функцию get_next_prime(num), которая принимает в качестве аргумента натуральное число num и возвращает первое простое число большее числа num.\n",
        "\n",
        "Примечание 1. Используйте функцию is_prime() из предыдущей задачи.\n",
        "\n",
        "Примечание 2. Следующий программный код:\n",
        "```python\n",
        "print(get_next_prime(6))\n",
        "print(get_next_prime(7))\n",
        "print(get_next_prime(14))\n",
        "```\n",
        "должен выводить:\n",
        "```\n",
        "7\n",
        "11\n",
        "17\n",
        "```"
      ]
    },
    {
      "cell_type": "code",
      "execution_count": 16,
      "id": "662436d8",
      "metadata": {
        "colab": {
          "base_uri": "https://localhost:8080/"
        },
        "id": "662436d8",
        "outputId": "634b13be-6aad-405f-af9b-e34404666d86"
      },
      "outputs": [
        {
          "output_type": "stream",
          "name": "stdout",
          "text": [
            "97\n",
            "101\n"
          ]
        }
      ],
      "source": [
        "def get_next_prime(num):\n",
        "    num += 1\n",
        "    for i in range(2, num):\n",
        "        if num % i == 0:\n",
        "            return get_next_prime(num)\n",
        "    return num\n",
        "\n",
        "# считываем данные\n",
        "n = int(input())\n",
        "\n",
        "# вызываем функцию\n",
        "print(get_next_prime(n))"
      ]
    },
    {
      "cell_type": "markdown",
      "id": "029c3e69",
      "metadata": {
        "id": "029c3e69"
      },
      "source": [
        "# 43. Good password 🌶️\n",
        "Напишите функцию is_password_good(password), которая принимает в качестве аргумента строковое значение пароля password и возвращает значение True если пароль является надежным и False в противном случае.\n",
        "\n",
        "Пароль является надежным если:\n",
        "\n",
        "* его длина не менее 88 символов; \n",
        "* он содержит как минимум одну заглавную букву (верхний регистр); \n",
        "* он содержит как минимум одну строчную букву (нижний регистр);\n",
        "* он содержит хотя бы одну цифру.\n",
        "\n",
        " Примечание. Следующий программный код:\n",
        "```python\n",
        "print(is_password_good('aabbCC11OP'))\n",
        "print(is_password_good('abC1pu'))\n",
        "```\n",
        "должен выводить:\n",
        "```\n",
        "True\n",
        "False\n",
        "```"
      ]
    },
    {
      "cell_type": "code",
      "execution_count": 17,
      "id": "4d566002",
      "metadata": {
        "colab": {
          "base_uri": "https://localhost:8080/"
        },
        "id": "4d566002",
        "outputId": "a6c9a615-3fab-4b2f-ea75-56798a27bc43"
      },
      "outputs": [
        {
          "output_type": "stream",
          "name": "stdout",
          "text": [
            "aaAA12qqp\n",
            "True\n"
          ]
        }
      ],
      "source": [
        "def is_password_good(password):\n",
        "    upp = [i for i in password if i.isupper()]\n",
        "    low = [i for i in password if i.islower()]\n",
        "    dig = [i for i in password if i.isdigit()]\n",
        "    return all([len(password) >= 8, upp, low, dig])\n",
        "\n",
        "\n",
        "txt = input()\n",
        "print(is_password_good(txt))"
      ]
    },
    {
      "cell_type": "markdown",
      "id": "c2556838",
      "metadata": {
        "id": "c2556838"
      },
      "source": [
        "# 44. Ровно в одном\n",
        "Напишите функцию is_one_away(word1, word2), которая принимает в качестве аргументов два слова word1 и word2 и возвращает значение True если слова имеют одинаковую длину и отличаются ровно в 1 символе и False в противном случае.\n",
        "\n",
        "Примечание. Следующий программный код:\n",
        "```python\n",
        "print(is_one_away('bike', 'hike'))\n",
        "print(is_one_away('water', 'wafer'))\n",
        "print(is_one_away('abcd', 'abpo'))\n",
        "print(is_one_away('abcd', 'abcde'))\n",
        "```\n",
        "должен выводить:\n",
        "```\n",
        "True\n",
        "True\n",
        "False\n",
        "False\n",
        "```"
      ]
    },
    {
      "cell_type": "code",
      "execution_count": 18,
      "id": "7fa464e8",
      "metadata": {
        "colab": {
          "base_uri": "https://localhost:8080/"
        },
        "id": "7fa464e8",
        "outputId": "f7a745af-b291-4e30-b89d-1095ce4d1b8a"
      },
      "outputs": [
        {
          "output_type": "stream",
          "name": "stdout",
          "text": [
            "bike\n",
            "hike\n",
            "True\n"
          ]
        }
      ],
      "source": [
        "# объявление функции\n",
        "def is_one_away(word1, word2):\n",
        "    if len(word1) != len(word2):\n",
        "        return False\n",
        "    count = 0\n",
        "    for i in range(len(word1)):\n",
        "        if word1[i] != word2[i]:\n",
        "            count += 1\n",
        "    if count == 1:\n",
        "        return True\n",
        "    else:\n",
        "        return False\n",
        "\n",
        "# считываем данные\n",
        "txt1 = input()\n",
        "txt2 = input()\n",
        "\n",
        "# вызываем функцию\n",
        "print(is_one_away(txt1, txt2))"
      ]
    },
    {
      "cell_type": "markdown",
      "id": "d467a516",
      "metadata": {
        "id": "d467a516"
      },
      "source": [
        "# 45. Палиндром 🌶️\n",
        "Напишите функцию is_palindrome(text), которая принимает в качестве аргумента строку text и возвращает значение True если указанный текст является палиндромом и False в противном случае.\n",
        "\n",
        "Примечание 1. Палиндром – это строка, которая читается одинаково в обоих направлениях\n",
        "\n",
        "Примечание 2. При проверке считайте большие и маленькие буквы одинаковыми, а также игнорируйте пробелы, а также символы , . ! ? -.\n",
        "\n",
        "Примечание 3. Следующий программный код:\n",
        "```python\n",
        "print(is_palindrome('А роза упала на лапу Азора.'))\n",
        "print(is_palindrome('Gabler Ruby - burrel bag!'))\n",
        "print(is_palindrome('BEEGEEK'))\n",
        "```\n",
        "должен выводить:\n",
        "```\n",
        "True\n",
        "True\n",
        "False\n",
        "```"
      ]
    },
    {
      "cell_type": "code",
      "execution_count": 19,
      "id": "66708724",
      "metadata": {
        "colab": {
          "base_uri": "https://localhost:8080/"
        },
        "id": "66708724",
        "outputId": "9f02af47-e619-446a-a533-159b0bc33b90"
      },
      "outputs": [
        {
          "output_type": "stream",
          "name": "stdout",
          "text": [
            "Standart - smallest, sell Amstrad nats.\n",
            "True\n"
          ]
        }
      ],
      "source": [
        "# объявление функции\n",
        "def is_palindrome(text):\n",
        "    text = [i.lower() for i in text if i not in (',.!?- ')]\n",
        "    return text == text[::-1]\n",
        "\n",
        "# считываем данные\n",
        "txt = input()\n",
        "\n",
        "# вызываем функцию\n",
        "print(is_palindrome(txt))"
      ]
    },
    {
      "cell_type": "markdown",
      "id": "f834a8ac",
      "metadata": {
        "id": "f834a8ac"
      },
      "source": [
        "# 46. BEEGEEK\n",
        "BEEGEEK наконец открыл свой банк в котором используются специальные банкоматы с необычным паролем.\n",
        "\n",
        "Действительный пароль BEEGEEK банка имеет вид a:b:c, где a, b и c – натуральные числа. Поскольку основатель BEEGEEK фанатеет от математики, то он решил:\n",
        "\n",
        "* число a – должно быть палиндромом;\n",
        "* число b – должно быть простым;\n",
        "* число c – должно быть четным.\n",
        "\n",
        "Напишите функцию is_valid_password(password), которая принимает в качестве аргумента строковое значение пароля password и возвращает значение True если пароль является действительным паролем BEEGEEK банка и False в противном случае.\n",
        "\n",
        "Примечание. Следующий программный код:\n",
        "```python\n",
        "print(is_valid_password('1221:101:22'))\n",
        "print(is_valid_password('565:30:50'))\n",
        "print(is_valid_password('112:7:9'))\n",
        "print(is_valid_password('1221:101:22:22'))\n",
        "```\n",
        "должен выводить:\n",
        "```\n",
        "True\n",
        "False\n",
        "False\n",
        "False\n",
        "```"
      ]
    },
    {
      "cell_type": "code",
      "execution_count": 20,
      "id": "4a7905c9",
      "metadata": {
        "colab": {
          "base_uri": "https://localhost:8080/"
        },
        "id": "4a7905c9",
        "outputId": "743edeed-ab12-42e3-846e-5fa7b18595ff"
      },
      "outputs": [
        {
          "output_type": "stream",
          "name": "stdout",
          "text": [
            "15551:7:290\n",
            "True\n"
          ]
        }
      ],
      "source": [
        "def isPrime(n):\n",
        "    if n % 2 == 0: return(n == 2)\n",
        "    d = 3\n",
        "    while d * d <= n and n % d != 0: d += 2\n",
        "    return(d * d > n)\n",
        "\n",
        "def isPalindrom(n):\n",
        "    n = str(n)\n",
        "    return(n == n[::-1])\n",
        "\n",
        "def isEven(n): return(not n % 2)\n",
        "\n",
        "def is_valid_password(password):\n",
        "    try:\n",
        "        a, b, c = map(int, password.split(':'))\n",
        "        return(isPalindrom(a) and isPrime(b) and isEven(c))\n",
        "    except: return(False)\n",
        "\n",
        "# считываем данные\n",
        "psw = input()\n",
        "\n",
        "# вызываем функцию\n",
        "print(is_valid_password(psw))"
      ]
    },
    {
      "cell_type": "markdown",
      "id": "c3655483",
      "metadata": {
        "id": "c3655483"
      },
      "source": [
        "# 47. Правильная скобочная последовательность 🌶️\n",
        "Напишите функцию is_correct_bracket(text), которая принимает в качестве аргумента непустую строку text, состоящую из символов ( и ) и возвращает значение True если поступившая на вход строка является правильной скобочной последовательностью и False в противном случае.\n",
        "\n",
        "Примечание 1. Правильной скобочной последовательностью называется строка, состоящая только из символов ( и ), где каждой открывающей скобке найдется парная закрывающая скобка.\n",
        "\n",
        "Примечание 2. Следующий программный код:\n",
        "```python\n",
        "print(is_correct_bracket('()(()())'))\n",
        "print(is_correct_bracket(')(())('))\n",
        "```\n",
        "должен выводить:\n",
        "```\n",
        "True\n",
        "False\n",
        "```"
      ]
    },
    {
      "cell_type": "code",
      "execution_count": 21,
      "id": "d0ef35a1",
      "metadata": {
        "colab": {
          "base_uri": "https://localhost:8080/"
        },
        "id": "d0ef35a1",
        "outputId": "3a73e802-e003-4fac-83b0-b3fd9261f013"
      },
      "outputs": [
        {
          "output_type": "stream",
          "name": "stdout",
          "text": [
            "((()))\n",
            "True\n"
          ]
        }
      ],
      "source": [
        "# объявление функции\n",
        "def is_correct_bracket(text):\n",
        "    while '()' in text:\n",
        "        text = text.replace('()', '')\n",
        "    return not text\n",
        "\n",
        "# считываем данные\n",
        "txt = input()\n",
        "\n",
        "# вызываем функцию\n",
        "print(is_correct_bracket(txt))"
      ]
    },
    {
      "cell_type": "markdown",
      "id": "e2986c4c",
      "metadata": {
        "id": "e2986c4c"
      },
      "source": [
        "# 48. Змеиный регистр\n",
        "Напишите функцию convert_to_python_case(text), которая принимает в качестве аргумента строку в «верблюжьем регистре» и преобразует его в «змеиный регистр».\n",
        "\n",
        "Примечание 1. Почитать подробнее о стилях именования можно тут.\n",
        "\n",
        "Примечание 2. Следующий программный код:\n",
        "```python\n",
        "print(convert_to_python_case('ThisIsCamelCased'))\n",
        "print(convert_to_python_case('IsPrimeNumber'))\n",
        "```\n",
        "должен выводить:\n",
        "```\n",
        "this_is_camel_cased\n",
        "is_prime_number\n",
        "```"
      ]
    },
    {
      "cell_type": "code",
      "execution_count": 22,
      "id": "0a35a668",
      "metadata": {
        "colab": {
          "base_uri": "https://localhost:8080/"
        },
        "id": "0a35a668",
        "outputId": "8a202cb0-a708-4657-f47e-a4092d6acbfd"
      },
      "outputs": [
        {
          "output_type": "stream",
          "name": "stdout",
          "text": [
            "ThisIsCamelCased\n",
            "this_is_camel_cased\n"
          ]
        }
      ],
      "source": [
        "# объявление функции\n",
        "def convert_to_python_case(text):\n",
        "    s = ''\n",
        "    for el in text:\n",
        "        if el.isupper():\n",
        "            s += '_'\n",
        "        s += el.lower()\n",
        "    return s[1:]\n",
        "\n",
        "# считываем данные\n",
        "txt = input()\n",
        "\n",
        "# вызываем функцию\n",
        "print(convert_to_python_case(txt))"
      ]
    },
    {
      "cell_type": "markdown",
      "id": "31bdb1c2",
      "metadata": {
        "id": "31bdb1c2"
      },
      "source": [
        "# 49. Выберите верные утверждения.\n",
        "\n",
        "* **сложные математические выражения иногда можно упрощать путем вычленения части выражения и ее помещения в функцию**\n",
        "\n",
        "* **функция в Python может возвращать более одного значения**\n",
        "\n",
        "* вызов функции и определение функции означают одно и то же\n",
        "\n",
        "* программный код в одной функции может обращаться к локальной переменной в другой функции\n",
        "\n",
        "* имена функций должны быть максимально короткими\n",
        "\n",
        "* **функции упрощают работу программистов в командах**\n",
        "\n",
        "* в Python нельзя писать функции, которые принимают многочисленные аргументы\n",
        "\n",
        "# 50. Середина отрезка\n",
        "Напишите функцию get_middle_point(x1, y1, x2, y2), которая принимает в качестве аргументов координаты концов отрезка (x1; y1) и (x2; y2) и возвращает координаты точки являющейся серединой данного отрезка.\n",
        "\n",
        "Примечание 1. Координаты середины отрезка вычисляются по формуле:\n",
        "![](https://ucarecdn.com/5bd014c6-efa7-452f-989a-06fefb5cf42f/)\n",
        "\n",
        "Примечание 2. Следующий программный код:\n",
        "```python\n",
        "print(get_middle_point(0, 0, 10, 0))\n",
        "print(get_middle_point(1, 5, 8, 3))\n",
        "```\n",
        "должен выводить:\n",
        "```\n",
        "5.0 0.0\n",
        "4.5 4.0\n",
        "```"
      ]
    },
    {
      "cell_type": "code",
      "execution_count": 23,
      "id": "b6516efc",
      "metadata": {
        "colab": {
          "base_uri": "https://localhost:8080/"
        },
        "id": "b6516efc",
        "outputId": "d5240d52-3fc0-4279-f559-cc896276d333"
      },
      "outputs": [
        {
          "output_type": "stream",
          "name": "stdout",
          "text": [
            "1\n",
            "1\n",
            "2\n",
            "2\n",
            "1.5 1.5\n"
          ]
        }
      ],
      "source": [
        "def get_middle_point(x1, y1, x2, y2):\n",
        "    return (x1 + x2) / 2, (y1 + y2) / 2\n",
        "\n",
        "print(*get_middle_point(int(input()), int(input()), int(input()), int(input())))"
      ]
    },
    {
      "cell_type": "markdown",
      "id": "291df67e",
      "metadata": {
        "id": "291df67e"
      },
      "source": [
        "# 51. Площадь и длина\n",
        "Напишите функцию get_circle(radius), которая принимает в качестве аргумента радиус окружности и возвращает два значения: длину окружности и площадь круга, ограниченного данной окружностью.\n",
        "\n",
        "Примечание 1. Длина окружности и площадь круга радиуса rr вычисляются по формулам:\n",
        "C = 2pi * r, S = pi * r^2\n",
        "\n",
        "Примечание 2. Для числа π используйте глобальную константу из модуля math.\n",
        "\n",
        "Примечание 3. Следующий программный код:\n",
        "```python\n",
        "print(get_circle(1))\n",
        "print(get_circle(1.5))\n",
        "```\n",
        "должен выводить:\n",
        "```\n",
        "6.283185307179586 3.141592653589793\n",
        "9.42477796076938 7.0685834705770345\n",
        "```"
      ]
    },
    {
      "cell_type": "code",
      "execution_count": 25,
      "id": "8b4cf56e",
      "metadata": {
        "colab": {
          "base_uri": "https://localhost:8080/"
        },
        "id": "8b4cf56e",
        "outputId": "b8c64b86-b9ef-450c-9495-cc5ff6f56ca0"
      },
      "outputs": [
        {
          "output_type": "stream",
          "name": "stdout",
          "text": [
            "1\n",
            "6.283185307179586 3.141592653589793\n"
          ]
        }
      ],
      "source": [
        "from math import*\n",
        "# объявление функции\n",
        "def get_circle(radius):\n",
        "    return 2*pi*radius, pi*(radius**2)\n",
        "\n",
        "# считываем данные\n",
        "r = float(input())\n",
        "\n",
        "# вызываем функцию\n",
        "length, square = get_circle(r)\n",
        "print(length, square)"
      ]
    },
    {
      "cell_type": "markdown",
      "id": "259e1bfd",
      "metadata": {
        "id": "259e1bfd"
      },
      "source": [
        "# 52. Корни уравнения 🌶️🌶️\n",
        "Напишите функцию solve(a, b, c), которая принимает в качестве аргументов три целых числа a, b, c – коэффициенты квадратного уравнения ax^2+bx+c = 0 и возвращает его корни в порядке возрастания.\n",
        "\n",
        "Примечание 1. С подобной задачей мы уже сталкивались.\n",
        "\n",
        "Примечание 2. Гарантируется, что квадратное уравнение имеет корни.\n",
        "\n",
        "Примечание 3. Следующий программный код:\n",
        "```python\n",
        "print(solve(1, -4, -5))\n",
        "print(solve(-2, 7, -5))\n",
        "print(solve(1, 2, 1))\n",
        "```\n",
        "должен выводить:\n",
        "```\n",
        "-1.0 5.0\n",
        "1.0 2.5\n",
        "-1.0 -1.0\n",
        "```"
      ]
    },
    {
      "cell_type": "code",
      "execution_count": 26,
      "id": "5201557a",
      "metadata": {
        "colab": {
          "base_uri": "https://localhost:8080/"
        },
        "id": "5201557a",
        "outputId": "71c5a1b5-cf7c-4f54-8364-b725ee6ca125"
      },
      "outputs": [
        {
          "output_type": "stream",
          "name": "stdout",
          "text": [
            "1\n",
            "-4\n",
            "-5\n",
            "-1.0 5.0\n"
          ]
        }
      ],
      "source": [
        "def solve(a, b, c):\n",
        "    d = (b**2) -4*a*c\n",
        "    x1 = ((-1*b)-d**0.5)/(2*a)\n",
        "    x2 = ((-1*b)+d**0.5)/(2*a)\n",
        "    \n",
        "    return min(x1,x2), max(x1,x2)\n",
        "\n",
        "a, b, c = int(input()), int(input()), int(input())\n",
        "\n",
        "x1, x2 = solve(a, b, c)\n",
        "print(x1, x2)"
      ]
    },
    {
      "cell_type": "markdown",
      "id": "92217f24",
      "metadata": {
        "id": "92217f24"
      },
      "source": [
        "# 53. Какие важные задачи решают функции?\n",
        "\n",
        "\n",
        "* **уменьшают дублирование кода**\n",
        "\n",
        "* **увеличивают скорость разработки**\n",
        "\n",
        "* **упрощают программный код**\n",
        "\n",
        "* **улучшают возможности по тестированию кода**\n",
        "\n",
        "* **способствуют совместной работе в команде**"
      ]
    }
  ],
  "metadata": {
    "kernelspec": {
      "display_name": "Python 3 (ipykernel)",
      "language": "python",
      "name": "python3"
    },
    "language_info": {
      "codemirror_mode": {
        "name": "ipython",
        "version": 3
      },
      "file_extension": ".py",
      "mimetype": "text/x-python",
      "name": "python",
      "nbconvert_exporter": "python",
      "pygments_lexer": "ipython3",
      "version": "3.9.12"
    },
    "colab": {
      "provenance": []
    }
  },
  "nbformat": 4,
  "nbformat_minor": 5
}