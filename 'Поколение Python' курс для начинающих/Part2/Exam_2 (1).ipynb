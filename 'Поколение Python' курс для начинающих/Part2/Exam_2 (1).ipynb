{
  "cells": [
    {
      "cell_type": "markdown",
      "id": "be7901ad",
      "metadata": {
        "id": "be7901ad"
      },
      "source": [
        "# 1. Начало столетия\n",
        "Напишите программу, которая определяет, оканчивается ли год с данным номером на два нуля. Если год оканчивается, то выведите «YES», иначе выведите «NO».\n",
        "\n",
        "`Формат входных данных`\n",
        "\n",
        "На вход программе подаётся натуральное число.\n",
        "\n",
        "`Формат выходных данных`\n",
        "\n",
        "Программа должна вывести текст в соответствии с условием задачи."
      ]
    },
    {
      "cell_type": "code",
      "execution_count": 1,
      "id": "4aabbb6d",
      "metadata": {
        "colab": {
          "base_uri": "https://localhost:8080/"
        },
        "id": "4aabbb6d",
        "outputId": "d5dfe035-3d6b-4df5-c82f-22ba2376165e"
      },
      "outputs": [
        {
          "output_type": "stream",
          "name": "stdout",
          "text": [
            "3000\n",
            "YES\n"
          ]
        }
      ],
      "source": [
        "n = int(input())\n",
        "n3 = (n % 100) // 10\n",
        "n4 = n % 10\n",
        "if n3 == 0 and n4 == 0:\n",
        "    print('YES')\n",
        "else:\n",
        "    print('NO')"
      ]
    },
    {
      "cell_type": "markdown",
      "id": "0df99c05",
      "metadata": {
        "id": "0df99c05"
      },
      "source": [
        "# 2. Шахматная доска\n",
        "Заданы две клетки шахматной доски. Напишите программу, которая определяет имеют ли указанные клетки один цвет или нет. Если они покрашены в один цвет, то выведите слово «YES», а если в разные цвета — то «NO».\n",
        "\n",
        "`Формат входных данных`\n",
        "\n",
        "На вход программе подаётся четыре числа от 1 до 8 каждое, задающие номер столбца и номер строки сначала для первой клетки, потом для второй клетки.\n",
        "\n",
        "`Формат выходных данных`\n",
        "\n",
        "Программа должна вывести текст в соответствии с условием задачи.\n",
        "![](https://ucarecdn.com/552441a7-7c02-47b4-9338-c9264f6c1b14/)"
      ]
    },
    {
      "cell_type": "code",
      "execution_count": 2,
      "id": "a3b6cc1e",
      "metadata": {
        "colab": {
          "base_uri": "https://localhost:8080/"
        },
        "id": "a3b6cc1e",
        "outputId": "10557ff0-f404-4ee5-b71d-26d830fbfc66"
      },
      "outputs": [
        {
          "output_type": "stream",
          "name": "stdout",
          "text": [
            "2\n",
            "2\n",
            "2\n",
            "5\n",
            "NO\n"
          ]
        }
      ],
      "source": [
        "x1, y1, x2, y2 = int(input()), int(input()), int(input()), int(input())\n",
        "if (x1 % 2 != 0 and y1 % 2 != 0) and (x2 % 2 == 0 and y2 % 2 == 0):\n",
        "    print('YES')\n",
        "elif (x1 % 2 == 0 and y1 % 2 == 0) and (x2 % 2 != 0 and y2 % 2 != 0):\n",
        "    print('YES')\n",
        "elif (x1 % 2 == 0 and y1 % 2 == 0) and (x2 % 2 == 0 and y2 % 2 == 0):\n",
        "    print('YES')\n",
        "elif (x1 % 2 != 0 and y1 % 2 != 0) and (x2 % 2 != 0 and y2 % 2 != 0):\n",
        "    print('YES')\n",
        "elif (x1 % 2 != 0 and y1 % 2 == 0) and (x2 % 2 == 0 and y2 % 2 != 0):\n",
        "    print('YES')\n",
        "elif (x1 % 2 != 0 and y1 % 2 == 0) and (x2 % 2 != 0 and y2 % 2 == 0):\n",
        "    print('YES')\n",
        "elif (x1 % 2 == 0 and y1 % 2 != 0) and (x2 % 2 != 0 and y2 % 2 == 0):\n",
        "    print('YES')\n",
        "elif (x1 % 2 == 0 and y1 % 2 != 0) and (x2 % 2 == 0 and y2 % 2 != 0):\n",
        "    print('YES')    \n",
        "else:\n",
        "    print('NO')\n",
        "\n"
      ]
    },
    {
      "cell_type": "markdown",
      "id": "82368edd",
      "metadata": {
        "id": "82368edd"
      },
      "source": [
        "# 3. Girls only\n",
        "Футбольная команда набирает девочек от 10 до 15 лет включительно. Напишите программу, которая запрашивает возраст и пол претендента, используя обозначение пола буквы m (от male – мужчина) и f (от female – женщина) и определяет подходит ли претендент для вступления в команду или нет. Если претендент подходит, то выведите «YES», иначе выведите «NO».\n",
        "\n",
        "`Формат входных данных`\n",
        "\n",
        "На вход программе подаётся натуральное число – возраст претендента и буква обозначающая пол m (мужчина) или f (женщина).\n",
        "\n",
        "`Формат выходных данных`\n",
        "\n",
        "Программа должна вывести текст в соответствии с условием задачи."
      ]
    },
    {
      "cell_type": "code",
      "execution_count": 3,
      "id": "9f2430ef",
      "metadata": {
        "colab": {
          "base_uri": "https://localhost:8080/"
        },
        "id": "9f2430ef",
        "outputId": "6ddccbb3-a4b8-418b-c9f5-f02079d69b74"
      },
      "outputs": [
        {
          "output_type": "stream",
          "name": "stdout",
          "text": [
            "15\n",
            "f\n",
            "YES\n"
          ]
        }
      ],
      "source": [
        "age = int(input())\n",
        "sex = input()\n",
        "if (10 <= age <= 15) and sex == 'f':\n",
        "    print('YES')\n",
        "else:\n",
        "    print('NO')"
      ]
    },
    {
      "cell_type": "markdown",
      "id": "8ee26c18",
      "metadata": {
        "id": "8ee26c18"
      },
      "source": [
        "# 4. Римские цифры\n",
        "Напишите программу, которая считывает целое число и выводит соответствующую ему римскую цифру. Если число находится вне диапазона 1-10, то программа должна вывести текст «ошибка»."
      ]
    },
    {
      "cell_type": "code",
      "execution_count": 4,
      "id": "ae0d7cbe",
      "metadata": {
        "colab": {
          "base_uri": "https://localhost:8080/"
        },
        "id": "ae0d7cbe",
        "outputId": "2f61d456-4e6c-4226-f1e6-3df5420ce3f5"
      },
      "outputs": [
        {
          "output_type": "stream",
          "name": "stdout",
          "text": [
            "5\n",
            "V\n"
          ]
        }
      ],
      "source": [
        "n = int(input())\n",
        "if n == 1:\n",
        "    print('I')\n",
        "elif n == 2:\n",
        "    print('II')\n",
        "elif n == 3:\n",
        "    print('III')\n",
        "elif n == 4:\n",
        "    print('IV')\n",
        "elif n == 5:\n",
        "    print('V')\n",
        "elif n == 6:\n",
        "    print('VI')\n",
        "elif n == 7:\n",
        "    print('VII')\n",
        "elif n == 8:\n",
        "    print('VIII')\n",
        "elif n == 9:\n",
        "    print('IX')\n",
        "elif n == 10:\n",
        "    print('X')\n",
        "else:\n",
        "    print('ошибка')"
      ]
    },
    {
      "cell_type": "markdown",
      "id": "3606542b",
      "metadata": {
        "id": "3606542b"
      },
      "source": [
        "# 5. YES or NO вот в чем вопрос\n",
        "Напишите программу, которая принимает на вход число и в зависимости от условий выводит текст «YES», либо «NO».\n",
        "\n",
        "Условия:\n",
        "\n",
        "* если число нечётное, то вывести «YES»;\n",
        "* если число чётное в диапазоне от 2 до 5 (включительно), то вывести «NO»;\n",
        "* если число чётное в диапазоне от 6 до 20 (включительно), то вывести «YES»;\n",
        "* если число чётное и больше 20, то вывести «NO».\n",
        "\n",
        "`Формат входных данных`\n",
        "\n",
        "На вход программе подаётся натуральное число.\n",
        "\n",
        "`Формат выходных данных`\n",
        "\n",
        "Программа должна вывести текст в соответствии с условием задачи."
      ]
    },
    {
      "cell_type": "code",
      "execution_count": 5,
      "id": "6211b69b",
      "metadata": {
        "colab": {
          "base_uri": "https://localhost:8080/"
        },
        "id": "6211b69b",
        "outputId": "7e0cb412-0ca5-4a6f-f8c2-0f88d87106fe"
      },
      "outputs": [
        {
          "output_type": "stream",
          "name": "stdout",
          "text": [
            "5\n",
            "YES\n"
          ]
        }
      ],
      "source": [
        "n = int(input())\n",
        "if n % 2 != 0:\n",
        "    print('YES')\n",
        "elif 2 <= n <= 5:\n",
        "    if n % 2 == 0:\n",
        "        print('NO')\n",
        "    else:\n",
        "        print('YES')\n",
        "elif 6 <= n <= 20:\n",
        "    if n % 2 == 0:\n",
        "        print('YES')\n",
        "    else:\n",
        "        print('NO')\n",
        "elif 20 < n:\n",
        "    if n % 2 == 0:\n",
        "        print('NO')\n",
        "    else:\n",
        "        print('YES')"
      ]
    },
    {
      "cell_type": "markdown",
      "id": "332b2176",
      "metadata": {
        "id": "332b2176"
      },
      "source": [
        "# 6. Ход слона 🌶️\n",
        "Даны две различные клетки шахматной доски. Напишите программу, которая определяет, может ли слон попасть с первой клетки на вторую одним ходом. Программа получает на вход четыре числа от 1 до 8 каждое, задающие номер столбца и номер строки сначала для первой клетки, потом для второй клетки. Программа должна вывести «YES», если из первой клетки ходом слона можно попасть во вторую или «NO» в противном случае.\n",
        "\n",
        "`Формат входных данных`\n",
        "\n",
        "На вход программе подаётся четыре числа от 1 до 8.\n",
        "\n",
        "`Формат выходных данных`\n",
        "\n",
        "Программа должна вывести текст в соответствии с условием задачи.\n",
        "\n",
        "Примечание. Шахматный слон ходит по диагоналям.\n",
        "![](https://ucarecdn.com/eb6ad880-928b-4271-98f0-aefb193991d7/)"
      ]
    },
    {
      "cell_type": "code",
      "execution_count": 6,
      "id": "c5e3a652",
      "metadata": {
        "colab": {
          "base_uri": "https://localhost:8080/"
        },
        "id": "c5e3a652",
        "outputId": "94037ead-254c-41f4-f40d-d584ce622d58"
      },
      "outputs": [
        {
          "output_type": "stream",
          "name": "stdout",
          "text": [
            "5\n",
            "YES\n"
          ]
        }
      ],
      "source": [
        "n = int(input())\n",
        "if n % 2 != 0:\n",
        "    print('YES')\n",
        "elif 2 <= n <= 5:\n",
        "    if n % 2 == 0:\n",
        "        print('NO')\n",
        "    else:\n",
        "        print('YES')\n",
        "elif 6 <= n <= 20:\n",
        "    if n % 2 == 0:\n",
        "        print('YES')\n",
        "    else:\n",
        "        print('NO')\n",
        "elif 20 < n:\n",
        "    if n % 2 == 0:\n",
        "        print('NO')\n",
        "    else:\n",
        "        print('YES')"
      ]
    },
    {
      "cell_type": "markdown",
      "id": "9187c897",
      "metadata": {
        "id": "9187c897"
      },
      "source": [
        "# 7. Ход коня\n",
        "Даны две различные клетки шахматной доски. Напишите программу,  которая определяет, может ли конь попасть с первой клетки на вторую одним ходом. Программа получает на вход четыре числа от 1 до 8 каждое, задающие номер столбца и номер строки сначала для первой клетки, потом для второй клетки. Программа должна вывести «YES», если из первой клетки ходом коня можно попасть во вторую или «NO» в противном случае.\n",
        "\n",
        "`Формат входных данных`\n",
        "\n",
        "На вход программе подаётся четыре числа от 1 до 8.\n",
        "\n",
        "`Формат выходных данных`\n",
        "\n",
        "Программа должна вывести текст в соответствии с условием задачи.\n",
        "\n",
        "Примечание. Шахматный конь ходит буквой «Г».\n",
        "\n",
        "![](https://ucarecdn.com/1611c614-daab-439b-8a5e-350cee84d150/)"
      ]
    },
    {
      "cell_type": "code",
      "execution_count": 7,
      "id": "dc796d5d",
      "metadata": {
        "colab": {
          "base_uri": "https://localhost:8080/"
        },
        "id": "dc796d5d",
        "outputId": "93ea2bb0-2dc1-4fca-fc68-5dee62464ab8"
      },
      "outputs": [
        {
          "output_type": "stream",
          "name": "stdout",
          "text": [
            "2\n",
            "4\n",
            "3\n",
            "2\n",
            "YES\n"
          ]
        }
      ],
      "source": [
        "x1, y1, x2, y2 = int(input()), int(input()), int(input()), int(input())\n",
        "if (x1 - x2) ** 2 + (y1 - y2) ** 2 == 5:\n",
        "    print(\"YES\")\n",
        "else:\n",
        "    print(\"NO\")"
      ]
    },
    {
      "cell_type": "markdown",
      "id": "e0acb68e",
      "metadata": {
        "id": "e0acb68e"
      },
      "source": [
        "# 8. Ход ферзя\n",
        "Даны две различные клетки шахматной доски. Напишите программу,  которая определяет, может ли ферзь попасть с первой клетки на вторую одним ходом. Программа получает на вход четыре числа от 1 до 8 каждое, задающие номер столбца и номер строки сначала для первой клетки, потом для второй клетки. Программа должна вывести «YES», если из первой клетки ходом ферзя можно попасть во вторую или «NO» в противном случае.\n",
        "\n",
        "`Формат входных данных`\n",
        "\n",
        "На вход программе подаётся четыре числа от 1 до 8.\n",
        "\n",
        "`Формат выходных данных`\n",
        "\n",
        "Программа должна вывести текст в соответствии с условием задачи.\n",
        "\n",
        "Примечание. Шахматный ферзь ходит по диагонали, горизонтали или вертикали.\n",
        "![](https://ucarecdn.com/b34b1092-f9bd-46de-b5b2-870c761197d2/)"
      ]
    },
    {
      "cell_type": "code",
      "execution_count": 8,
      "id": "d0766a3b",
      "metadata": {
        "colab": {
          "base_uri": "https://localhost:8080/"
        },
        "id": "d0766a3b",
        "outputId": "aa9e7ce0-518c-4153-b263-0f0d6b1b4855"
      },
      "outputs": [
        {
          "output_type": "stream",
          "name": "stdout",
          "text": [
            "1\n",
            "1\n",
            "1\n",
            "2\n",
            "YES\n"
          ]
        }
      ],
      "source": [
        "x1 = int(input())\n",
        "y1 = int(input())\n",
        "x2 = int(input())\n",
        "y2 = int(input())\n",
        "if abs(x1 - x2) == abs(y1 - y2) or x1 == x2 or y1 == y2:\n",
        "    print('YES')\n",
        "else:\n",
        "    print('NO')"
      ]
    }
  ],
  "metadata": {
    "kernelspec": {
      "display_name": "Python 3 (ipykernel)",
      "language": "python",
      "name": "python3"
    },
    "language_info": {
      "codemirror_mode": {
        "name": "ipython",
        "version": 3
      },
      "file_extension": ".py",
      "mimetype": "text/x-python",
      "name": "python",
      "nbconvert_exporter": "python",
      "pygments_lexer": "ipython3",
      "version": "3.9.12"
    },
    "colab": {
      "provenance": []
    }
  },
  "nbformat": 4,
  "nbformat_minor": 5
}