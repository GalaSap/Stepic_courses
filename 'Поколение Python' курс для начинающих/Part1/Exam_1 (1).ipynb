{
  "cells": [
    {
      "cell_type": "markdown",
      "id": "31f38c8b",
      "metadata": {
        "id": "31f38c8b"
      },
      "source": [
        "## 1. Какая команда используется для вывода (печати) данных?\n",
        "\n",
        "\n",
        "* printf()\n",
        "\n",
        "* cout()\n",
        "\n",
        "* Console.WriteLine()\n",
        "\n",
        "* **print()**\n",
        "\n",
        "## 2. Выберите верные строки кода.\n",
        "\n",
        "\n",
        "* **print(\"I'm a math teacher and a programmer!\")**\n",
        "\n",
        "* print('I'm 16 and I'm from Northern Ireland.')\n",
        "\n",
        "* print('Просто текст...\")\n",
        "\n",
        "* **print('Поэма \"Мёртвые души\" одна из самых интересных')**\n",
        "\n",
        "* **print()**\n",
        "\n",
        "* **print(\"3.1415\")**\n",
        "\n",
        "## 2. Выберите верные строки кода.\n",
        "\n",
        "\n",
        "* print(\"10\", '100', '1000)\n",
        "\n",
        "* **print('Python', 'is the best', '!!')**\n",
        "\n",
        "* print(\"раз\", \"два, \"три\")\n",
        "\n",
        "* print(\"Python\", , \"is the best\")\n",
        "\n",
        "\n",
        "## 3. Что выведет следующий код print('1', '2', '3', '4', sep='*')?\n",
        "\n",
        "\n",
        "* 1 2 3 4\n",
        "\n",
        "* 24\n",
        "\n",
        "* **1*2*3*4**\n",
        "\n",
        "* 1234\n",
        "\n",
        "\n",
        "## 4. Выберите верные строки кода.\n",
        "\n",
        "\n",
        "* **print(\"The world's a little blurry\", \"Or maybe it's my eyes\", end='!!!', sep=' :) ')**\n",
        "\n",
        "* **print(\"Honey, what's your hurry\", end='?')**\n",
        "\n",
        "* print(\"Remember not to get too close to stars\", \"They're never gonna give you love like ours\", sepp=\" \")\n",
        "\n",
        "* print(\"Remember not to get too close to stars\", end==\"\")\n",
        "\n",
        "* **print(\"Told you not to worry\", \"But maybe that's a lie\", sep=' :) ')**\n",
        "\n",
        "## 5. Какая команда используется для считывания данных с клавиатуры?\n",
        "\n",
        "\n",
        "* scanf()\n",
        "\n",
        "* cin\n",
        "\n",
        "* Console.ReadLine()\n",
        "\n",
        "* **input()**\n",
        "\n",
        "\n",
        "## 6. Какая из указанных строк считывает целое число в переменную n?\n",
        "\n",
        "\n",
        "* n = integer(input())\n",
        "\n",
        "* n = input()\n",
        "\n",
        "* n = str(input())\n",
        "\n",
        "* n = number(input())\n",
        "\n",
        "* **n = int(input())**\n",
        "\n",
        "## 7. Выберите верные утверждения.\n",
        "\n",
        "\n",
        "* **Имя переменной может начинаться с символа подчёркивания (_)**\n",
        "\n",
        "* **Имя переменной не может начинаться с цифры**\n",
        "\n",
        "* **Имя переменной не может совпадать с ключевым (зарезервированным) словом**\n",
        "\n",
        "* Имя переменной не может оканчиваться цифрой\n",
        "\n",
        "## 8. Какое число выведет следующий код?\n",
        "\n",
        "s = 13\n",
        "\n",
        "k = -5\n",
        "\n",
        "d = s + 2\n",
        "\n",
        "s = d\n",
        "\n",
        "k = 2 * s\n",
        "\n",
        "print(s + k + d)\n",
        "\n",
        "**60**\n",
        "\n",
        "## 9. Какое число выведет следующий код?\n",
        "\n",
        "a = 17 // (23 % 7)\n",
        "\n",
        "b = 34 % a * 5 - 29 % 4 * 3\n",
        "\n",
        "print(a * b)\n",
        "\n",
        "**56**\n",
        "\n",
        "## 10. Звездный прямоугольник\n",
        "Напишите программу, которая выводит прямоугольник, по периметру состоящий из звездочек (*).\n",
        "\n",
        "Примечание. Высота и ширина прямоугольника равны 44 и 1717 звёздочкам соответственно."
      ]
    },
    {
      "cell_type": "code",
      "execution_count": 1,
      "id": "ecd7181d",
      "metadata": {
        "colab": {
          "base_uri": "https://localhost:8080/"
        },
        "id": "ecd7181d",
        "outputId": "c79ac2d3-d7f5-4876-9e40-ecac48d334f9"
      },
      "outputs": [
        {
          "output_type": "stream",
          "name": "stdout",
          "text": [
            "*****************\n",
            "*               *\n",
            "*               *\n",
            "*****************\n"
          ]
        }
      ],
      "source": [
        "a = '*'\n",
        "print(a * 17)\n",
        "print(a, a, sep='               ')\n",
        "print(a, a, sep='               ')\n",
        "print(a * 17)"
      ]
    },
    {
      "cell_type": "markdown",
      "id": "e6ff69ac",
      "metadata": {
        "id": "e6ff69ac"
      },
      "source": [
        "## 11. Сумма квадратов VS квадрат суммы\n",
        "Напишите программу, которая считывает два целых числа aa и bb и выводит на экран квадрат суммы (a+b)^2(a+b) \n",
        "2\n",
        "  и сумму квадратов a^2+b^2a \n",
        "2\n",
        " +b \n",
        "2\n",
        "  этих чисел.\n",
        "\n",
        "Формат входных данных\n",
        "\n",
        "На вход программе подаётся два целых числа, каждое на отдельной строке.\n",
        "\n",
        "Формат выходных данных\n",
        "\n",
        "Программа должна вывести текст в соответствии с условием."
      ]
    },
    {
      "cell_type": "code",
      "execution_count": 2,
      "id": "6f1bafe5",
      "metadata": {
        "colab": {
          "base_uri": "https://localhost:8080/"
        },
        "id": "6f1bafe5",
        "outputId": "8160f07a-f52a-43ed-d34e-f7dcdfbb406e"
      },
      "outputs": [
        {
          "output_type": "stream",
          "name": "stdout",
          "text": [
            "3\n",
            "2\n",
            "Квадрат суммы 3 и 2 равен 25\n",
            "Сумма квадратов 3 и 2 равна 13\n"
          ]
        }
      ],
      "source": [
        "a = int(input())\n",
        "b = int(input())\n",
        "print('Квадрат суммы', a, 'и', b, 'равен', (a + b) ** 2)\n",
        "print('Сумма квадратов', a, 'и', b, 'равна', a ** 2 + b ** 2)"
      ]
    },
    {
      "cell_type": "markdown",
      "id": "7f033e2e",
      "metadata": {
        "id": "7f033e2e"
      },
      "source": [
        "## 12. Большое число\n",
        "Как известно, целые числа в языке Python не имеют ограничений, которые встречаются в других языках программирования. Напишите программу, которая считывает четыре целых положительных числа a, \\, b, \\, ca,b,c и dd и выводит на экран значение выражения a^b + c^da \n",
        "b\n",
        " +c \n",
        "d\n",
        " .\n",
        "\n",
        "Формат входных данных\n",
        "\n",
        "На вход программе подаётся четыре целых положительных числа a, \\, b, \\, ca,b,c и dd , каждое на отдельной строке в указанном порядке.\n",
        "\n",
        "Формат выходных данных\n",
        "\n",
        "Программа должна вывести значение a^b + c^da \n",
        "b\n",
        " +c \n",
        "d\n",
        " ."
      ]
    },
    {
      "cell_type": "code",
      "execution_count": 3,
      "id": "eab6e43c",
      "metadata": {
        "colab": {
          "base_uri": "https://localhost:8080/"
        },
        "id": "eab6e43c",
        "outputId": "9dd792ad-d408-4261-b0e2-18282ca9e3f3"
      },
      "outputs": [
        {
          "output_type": "stream",
          "name": "stdout",
          "text": [
            "22\n",
            "11\n",
            "8\n",
            "9\n",
            "584318435629056\n"
          ]
        }
      ],
      "source": [
        "a = int(input())\n",
        "b = int(input())\n",
        "c = int(input())\n",
        "d = int(input())\n",
        "print(a ** b + c ** d)"
      ]
    },
    {
      "cell_type": "markdown",
      "id": "33b212e1",
      "metadata": {
        "id": "33b212e1"
      },
      "source": [
        "## 13. Размножение n-ок\n",
        "Напишите программу, которая считывает целое положительное число n, \\, n \\in [1; \\, 9]n,n∈[1;9] и выводит значение числа n+\\overline{nn}+\\overline{nnn}n+ \n",
        "nn\n",
        " + \n",
        "nnn\n",
        " .\n",
        "\n",
        "Формат входных данных\n",
        "\n",
        "На вход программе подаётся одно целое положительное число n, \\, n \\in [1; \\, 9]n,n∈[1;9].\n",
        "\n",
        "Формат выходных данных\n",
        "\n",
        "Программа должна вывести число n + nn + nnn.\n",
        "\n",
        "Примечание. Для первого теста 1 + 11 + 111 = 1231+11+111=123."
      ]
    },
    {
      "cell_type": "code",
      "execution_count": 4,
      "id": "8678b6a9",
      "metadata": {
        "colab": {
          "base_uri": "https://localhost:8080/"
        },
        "id": "8678b6a9",
        "outputId": "81d1f49c-7cd5-40eb-8745-b6ebe43bca19"
      },
      "outputs": [
        {
          "output_type": "stream",
          "name": "stdout",
          "text": [
            "9\n",
            "1107\n"
          ]
        }
      ],
      "source": [
        "n = int(input())\n",
        "print(n + (n * 10 + n) + ((n * 100) + (n * 10) + n))"
      ]
    }
  ],
  "metadata": {
    "kernelspec": {
      "display_name": "Python 3 (ipykernel)",
      "language": "python",
      "name": "python3"
    },
    "language_info": {
      "codemirror_mode": {
        "name": "ipython",
        "version": 3
      },
      "file_extension": ".py",
      "mimetype": "text/x-python",
      "name": "python",
      "nbconvert_exporter": "python",
      "pygments_lexer": "ipython3",
      "version": "3.10.4"
    },
    "colab": {
      "provenance": []
    }
  },
  "nbformat": 4,
  "nbformat_minor": 5
}